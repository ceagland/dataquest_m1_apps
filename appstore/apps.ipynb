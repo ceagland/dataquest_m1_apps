{
 "cells": [
  {
   "cell_type": "markdown",
   "metadata": {},
   "source": [
    "# App Store Review\n",
    "\n",
    "Using data from both the Apple Store and the Google Play Store, the goal of this project is to help our make believe company determine which app attributes lead to more downloads and ratings. This fictional company makes free apps in English only and just makes money from ad revenue.  \n",
    "\n",
    "Both datasets can be found on Kaggle:  \n",
    "[Google Play Store Data](https://www.kaggle.com/lava18/google-play-store-apps/home)  \n",
    "[Apple Store Data](https://www.kaggle.com/ramamet4/app-store-apple-data-set-10k-apps/home)"
   ]
  },
  {
   "cell_type": "code",
   "execution_count": 1,
   "metadata": {},
   "outputs": [],
   "source": [
    "from csv import reader\n",
    "opened_file = open('AppleStore.csv', encoding='utf-8')\n",
    "read_file = reader(opened_file)\n",
    "apple = list(read_file)\n",
    "\n",
    "opened_file = open('googleplaystore.csv', encoding='utf-8')\n",
    "read_file = reader(opened_file)\n",
    "google = list(read_file)"
   ]
  },
  {
   "cell_type": "code",
   "execution_count": 2,
   "metadata": {},
   "outputs": [],
   "source": [
    "googlecols = google[0]\n",
    "applecols = apple[0]\n",
    "\n",
    "apple = apple[1:]\n",
    "google = google[1:]"
   ]
  },
  {
   "cell_type": "code",
   "execution_count": 3,
   "metadata": {},
   "outputs": [],
   "source": [
    "def explore_data(dataset, start, end, rows_and_columns = False):\n",
    "    #For easier to view data (using list format, not pandas)\n",
    "    dataset_slice = dataset[start:end]\n",
    "    for row in dataset_slice:\n",
    "        print(row, end='\\n\\n')\n",
    "        \n",
    "    if rows_and_columns:\n",
    "        print('Rows:' + str(len(dataset)))\n",
    "        print('Columns:' + str(len(dataset[0])))"
   ]
  },
  {
   "cell_type": "code",
   "execution_count": 4,
   "metadata": {},
   "outputs": [
    {
     "name": "stdout",
     "output_type": "stream",
     "text": [
      "['App', 'Category', 'Rating', 'Reviews', 'Size', 'Installs', 'Type', 'Price', 'Content Rating', 'Genres', 'Last Updated', 'Current Ver', 'Android Ver']\n",
      "\n",
      "['Photo Editor & Candy Camera & Grid & ScrapBook', 'ART_AND_DESIGN', '4.1', '159', '19M', '10,000+', 'Free', '0', 'Everyone', 'Art & Design', 'January 7, 2018', '1.0.0', '4.0.3 and up']\n",
      "\n",
      "['Coloring book moana', 'ART_AND_DESIGN', '3.9', '967', '14M', '500,000+', 'Free', '0', 'Everyone', 'Art & Design;Pretend Play', 'January 15, 2018', '2.0.0', '4.0.3 and up']\n",
      "\n",
      "['U Launcher Lite – FREE Live Cool Themes, Hide Apps', 'ART_AND_DESIGN', '4.7', '87510', '8.7M', '5,000,000+', 'Free', '0', 'Everyone', 'Art & Design', 'August 1, 2018', '1.2.4', '4.0.3 and up']\n",
      "\n",
      "Rows:10841\n",
      "Columns:13\n"
     ]
    }
   ],
   "source": [
    "print(googlecols, end = '\\n\\n')\n",
    "explore_data(google, 0, 3, rows_and_columns = True)"
   ]
  },
  {
   "cell_type": "code",
   "execution_count": 5,
   "metadata": {},
   "outputs": [
    {
     "name": "stdout",
     "output_type": "stream",
     "text": [
      "['', 'id', 'track_name', 'size_bytes', 'currency', 'price', 'rating_count_tot', 'rating_count_ver', 'user_rating', 'user_rating_ver', 'ver', 'cont_rating', 'prime_genre', 'sup_devices.num', 'ipadSc_urls.num', 'lang.num', 'vpp_lic']\n",
      "\n",
      "['1', '281656475', 'PAC-MAN Premium', '100788224', 'USD', '3.99', '21292', '26', '4', '4.5', '6.3.5', '4+', 'Games', '38', '5', '10', '1']\n",
      "\n",
      "['2', '281796108', 'Evernote - stay organized', '158578688', 'USD', '0', '161065', '26', '4', '3.5', '8.2.2', '4+', 'Productivity', '37', '5', '23', '1']\n",
      "\n",
      "['3', '281940292', 'WeatherBug - Local Weather, Radar, Maps, Alerts', '100524032', 'USD', '0', '188583', '2822', '3.5', '4.5', '5.0.0', '4+', 'Weather', '37', '5', '3', '1']\n",
      "\n",
      "Rows:7197\n",
      "Columns:17\n"
     ]
    }
   ],
   "source": [
    "print(applecols, end = '\\n\\n')\n",
    "explore_data(apple, 0, 3, rows_and_columns = True)"
   ]
  },
  {
   "cell_type": "markdown",
   "metadata": {},
   "source": [
    "### Available variables\n",
    "\n",
    "Some google play store variables that might be helpful:  \n",
    "- Category\n",
    "- Rating\n",
    "- Reviews\n",
    "- Size\n",
    "- Installs\n",
    "- Type\n",
    "- Content Rating\n",
    "- Genres\n",
    "- Last Updated\n",
    "\n",
    "In other words, most of them. The names for the Apple Play Store variables are less clear, but we can still get some idea:  \n",
    "- track_name  \n",
    "- size_bytes   \n",
    "- rating_count_tot  \n",
    "- rating_count_ver (current version only)  \n",
    "- user_rating  \n",
    "- user_rating_ver (current version only)\n",
    "- cont_rating  \n",
    "- prime_genre  \n"
   ]
  },
  {
   "cell_type": "markdown",
   "metadata": {},
   "source": [
    "### Data Accuracy\n",
    "\n",
    "Before checking accuracy, we'll first want to remove non-English apps and those that are not free. There would probably be some value in reviewing the same things for apps by price to explore differences, but let's focus on the main goal.\n",
    "\n",
    "We can also remove duplicates and check for errors."
   ]
  },
  {
   "cell_type": "code",
   "execution_count": 6,
   "metadata": {},
   "outputs": [
    {
     "name": "stdout",
     "output_type": "stream",
     "text": [
      "{'13': 10840, '12': 1}\n"
     ]
    }
   ],
   "source": [
    "#Let's start with Google - since we're working with lists and not data frames, let's check the lengths for consistency\n",
    "googlelengths = {}\n",
    "for row in google:\n",
    "    rowlength_str = str(len(row))\n",
    "    if rowlength_str in googlelengths:\n",
    "        googlelengths[rowlength_str] += 1\n",
    "    else:\n",
    "        googlelengths[rowlength_str] = 1\n",
    "print(googlelengths)"
   ]
  },
  {
   "cell_type": "markdown",
   "metadata": {},
   "source": [
    "Aha! Looks like we have an inconsistent row. Where is it?"
   ]
  },
  {
   "cell_type": "code",
   "execution_count": 7,
   "metadata": {},
   "outputs": [
    {
     "name": "stdout",
     "output_type": "stream",
     "text": [
      "10472\n"
     ]
    }
   ],
   "source": [
    "rowid = 0\n",
    "for row in google:\n",
    "    rowid += 1\n",
    "    if len(row) == 12:\n",
    "        fixrow = rowid - 1\n",
    "    \n",
    "print(fixrow)\n",
    "        "
   ]
  },
  {
   "cell_type": "code",
   "execution_count": 8,
   "metadata": {},
   "outputs": [
    {
     "name": "stdout",
     "output_type": "stream",
     "text": [
      "['App', 'Category', 'Rating', 'Reviews', 'Size', 'Installs', 'Type', 'Price', 'Content Rating', 'Genres', 'Last Updated', 'Current Ver', 'Android Ver']\n",
      "\n",
      "['Life Made WI-Fi Touchscreen Photo Frame', '1.9', '19', '3.0M', '1,000+', 'Free', '0', 'Everyone', '', 'February 11, 2018', '1.0.19', '4.0 and up']\n",
      "\n",
      "['osmino Wi-Fi: free WiFi', 'TOOLS', '4.2', '134203', '4.1M', '10,000,000+', 'Free', '0', 'Everyone', 'Tools', 'August 7, 2018', '6.06.14', '4.4 and up']\n",
      "\n"
     ]
    }
   ],
   "source": [
    "print(googlecols, end = '\\n\\n')\n",
    "explore_data(google, fixrow, fixrow +2)"
   ]
  },
  {
   "cell_type": "markdown",
   "metadata": {},
   "source": [
    "OK, two things to fix. For one, the App is missing Category. Second, it's missing the Genre. Checking the Google Play Store, it seems this is a Lifestyle app. Knowing this, we could fix it, but this is a Dataquest project and they suggest removing the row, so let's do what they do and delete it.\n"
   ]
  },
  {
   "cell_type": "code",
   "execution_count": 9,
   "metadata": {},
   "outputs": [],
   "source": [
    "del(google[fixrow])"
   ]
  },
  {
   "cell_type": "code",
   "execution_count": 10,
   "metadata": {},
   "outputs": [
    {
     "data": {
      "text/plain": [
       "'osmino Wi-Fi: free WiFi'"
      ]
     },
     "execution_count": 10,
     "metadata": {},
     "output_type": "execute_result"
    }
   ],
   "source": [
    "#Confirm the row is now gone:\n",
    "google[fixrow][0]"
   ]
  },
  {
   "cell_type": "markdown",
   "metadata": {},
   "source": [
    "Now, the same check for the Apple Store."
   ]
  },
  {
   "cell_type": "code",
   "execution_count": 11,
   "metadata": {},
   "outputs": [
    {
     "name": "stdout",
     "output_type": "stream",
     "text": [
      "{'17': 7197}\n"
     ]
    }
   ],
   "source": [
    "applelengths = {}\n",
    "for row in apple:\n",
    "    rowlength_str = str(len(row))\n",
    "    if rowlength_str in applelengths:\n",
    "        applelengths[rowlength_str] += 1\n",
    "    else:\n",
    "        applelengths[rowlength_str] = 1\n",
    "print(applelengths)"
   ]
  },
  {
   "cell_type": "markdown",
   "metadata": {},
   "source": [
    "Looks good. Next, let's check for duplicates.\n",
    "\n",
    "### Checking for duplicates"
   ]
  },
  {
   "cell_type": "code",
   "execution_count": 12,
   "metadata": {},
   "outputs": [
    {
     "name": "stdout",
     "output_type": "stream",
     "text": [
      "9659\n",
      "798\n"
     ]
    }
   ],
   "source": [
    "#Again, google first\n",
    "\n",
    "def listdupcheck(a_list, dup_idx = 0):\n",
    "    #Function to check for duplicates in a particular field of a list of lists\n",
    "    #a_list is the list\n",
    "    #dup_idx is the index of the field in the inner lists to check for duplicates\n",
    "    apps = []\n",
    "    dupapps  = []\n",
    "    for row in a_list:\n",
    "        if row[dup_idx] in dupapps:\n",
    "            next\n",
    "        elif row[dup_idx] in apps:\n",
    "            dupapps.append(row[dup_idx])\n",
    "        else:\n",
    "            apps.append(row[dup_idx])\n",
    "    return(apps, dupapps)\n",
    "    \n",
    "dupcheck_results = listdupcheck(google)\n",
    "apps = dupcheck_results[0]\n",
    "dupapps = dupcheck_results[1]\n",
    "\n",
    "print(len(apps))   \n",
    "print(len(dupapps))\n"
   ]
  },
  {
   "cell_type": "markdown",
   "metadata": {},
   "source": [
    "798 apps appear more than once in the data! Let's separate the data, then keep whichever instance of the duplicate app has the most reviews (and so is probably the most recent). 9,659 is the number of unique apps. When we clean up our duplicates, the length of the cleaned up data should be 9,659."
   ]
  },
  {
   "cell_type": "code",
   "execution_count": 13,
   "metadata": {},
   "outputs": [
    {
     "name": "stdout",
     "output_type": "stream",
     "text": [
      "8861\n",
      "1979\n"
     ]
    }
   ],
   "source": [
    "googleunique = []\n",
    "googledup = []\n",
    "for row in google:\n",
    "    if row[0] in dupapps:\n",
    "        googledup.append(row)\n",
    "    else:\n",
    "        googleunique.append(row)\n",
    "\n",
    "print(len(googleunique))\n",
    "print(len(googledup))"
   ]
  },
  {
   "cell_type": "code",
   "execution_count": 14,
   "metadata": {},
   "outputs": [
    {
     "name": "stdout",
     "output_type": "stream",
     "text": [
      "'Coloring book moana'\n",
      "'974'\n",
      "'Mcqueen Coloring pages'\n",
      "'65'\n",
      "'UNICORN - Color By Number & Pixel Art Coloring'\n",
      "'8264'\n",
      "'Textgram - write on photos'\n",
      "'295237'\n",
      "'Wattpad 📖 Free Books'\n",
      "'2915189'\n"
     ]
    }
   ],
   "source": [
    "#The number of reviews is at index 3\n",
    "maxratings = {}\n",
    "for row in googledup:\n",
    "    if row[0] not in maxratings:\n",
    "        maxratings[row[0]] = row[3]\n",
    "    else:\n",
    "        maxratings[row[0]] = max(row[3], maxratings[row[0]])\n",
    "from pprint import pprint\n",
    "\n",
    "sample = 0\n",
    "for key in maxratings:\n",
    "    pprint(key)\n",
    "    pprint(maxratings[key])\n",
    "    sample += 1\n",
    "    if sample > 4:\n",
    "        break\n",
    "    "
   ]
  },
  {
   "cell_type": "code",
   "execution_count": 15,
   "metadata": {},
   "outputs": [
    {
     "name": "stdout",
     "output_type": "stream",
     "text": [
      "798\n"
     ]
    }
   ],
   "source": [
    "googledup_recent = []\n",
    "already_added = []\n",
    "for row in googledup:\n",
    "    if row[3] == maxratings[row[0]] and row[0] not in already_added:\n",
    "        googledup_recent.append(row)\n",
    "        already_added.append(row[0])\n",
    "\n",
    "print(len(googledup_recent))"
   ]
  },
  {
   "cell_type": "markdown",
   "metadata": {},
   "source": [
    "798 is the number we were looking for. Now we'll combine the separated datasets (always unique and unique-from-duplicates) and make sure we get a list of length 9,659."
   ]
  },
  {
   "cell_type": "code",
   "execution_count": 16,
   "metadata": {},
   "outputs": [
    {
     "name": "stdout",
     "output_type": "stream",
     "text": [
      "9659\n"
     ]
    }
   ],
   "source": [
    "google = googleunique + googledup_recent\n",
    "\n",
    "print(len(google))"
   ]
  },
  {
   "cell_type": "markdown",
   "metadata": {},
   "source": [
    "Cool. Now again, but for Apple."
   ]
  },
  {
   "cell_type": "code",
   "execution_count": 17,
   "metadata": {},
   "outputs": [
    {
     "name": "stdout",
     "output_type": "stream",
     "text": [
      "7195\n",
      "2\n"
     ]
    }
   ],
   "source": [
    "appledup_results = listdupcheck(apple, 2)\n",
    "apps = appledup_results[0]\n",
    "dupapps = appledup_results[1]\n",
    "print(len(apps))\n",
    "print(len(dupapps))"
   ]
  },
  {
   "cell_type": "markdown",
   "metadata": {},
   "source": [
    "Ah, just 2. We can use the same strategy and keep the one with more ratings."
   ]
  },
  {
   "cell_type": "code",
   "execution_count": 18,
   "metadata": {},
   "outputs": [
    {
     "name": "stdout",
     "output_type": "stream",
     "text": [
      "{'Mannequin Challenge': '668', 'VR Roller Coaster': '67'}\n"
     ]
    }
   ],
   "source": [
    "#rating_count_tot is index 6\n",
    "\n",
    "maxratings = {}\n",
    "for row in apple:\n",
    "    if row[2] in dupapps:\n",
    "        ratings = row[6]\n",
    "        if row[2] in maxratings:\n",
    "            maxratings[row[2]] = max(maxratings[row[2]], ratings)\n",
    "        else:\n",
    "            maxratings[row[2]] = ratings\n",
    "\n",
    "#Only a couple\n",
    "pprint(maxratings)"
   ]
  },
  {
   "cell_type": "code",
   "execution_count": 19,
   "metadata": {},
   "outputs": [
    {
     "name": "stdout",
     "output_type": "stream",
     "text": [
      "7195\n"
     ]
    }
   ],
   "source": [
    "apple_fixed = []\n",
    "for row in apple:\n",
    "    if row[2] not in maxratings:\n",
    "        apple_fixed.append(row)\n",
    "    elif row[2] in maxratings and row[6] == maxratings[row[2]]:\n",
    "        apple_fixed.append(row)\n",
    "\n",
    "print(len(apple_fixed))"
   ]
  },
  {
   "cell_type": "code",
   "execution_count": 20,
   "metadata": {},
   "outputs": [],
   "source": [
    "apple = apple_fixed.copy()"
   ]
  },
  {
   "cell_type": "markdown",
   "metadata": {},
   "source": [
    "OK, now duplicate values have been removed from the google and apple data sets, and we've fixed an issue with a missing value. Next, we'll focus on English. Only one of the data sets have a language field we might use, and we'd have to interpret it (still might do that). But for now, we can use `ord()` to identify any titles with characters that are not standard English (anything from 0 to 127 returned from `ord()`). This simple filter would also pick up emoji's in names, or things like copyright or trademark symbols. To get a bit closer to the truth, we'll require at least 4 characters with `ord()` greater than 127.\n",
    "\n",
    "### Filtering for language"
   ]
  },
  {
   "cell_type": "code",
   "execution_count": 21,
   "metadata": {},
   "outputs": [
    {
     "name": "stdout",
     "output_type": "stream",
     "text": [
      "False\n",
      "True\n",
      "True\n"
     ]
    }
   ],
   "source": [
    "def isenglish(str):\n",
    "    countnonenglish = 0\n",
    "    for character in str:\n",
    "        if ord(character) > 127:\n",
    "            countnonenglish += 1\n",
    "    if countnonenglish > 3:\n",
    "        return(False)\n",
    "    else:\n",
    "        return(True)\n",
    "\n",
    "print(isenglish('爱奇艺PPS -《欢乐颂2》电视剧热播'))\n",
    "print(isenglish('doggy dog'))\n",
    "print(isenglish('Instachat 😜'))"
   ]
  },
  {
   "cell_type": "code",
   "execution_count": 22,
   "metadata": {},
   "outputs": [
    {
     "name": "stdout",
     "output_type": "stream",
     "text": [
      "9614\n",
      "6181\n"
     ]
    }
   ],
   "source": [
    "#Google\n",
    "google_eng = []\n",
    "for row in google:\n",
    "    if isenglish(row[0]):\n",
    "        google_eng.append(row)\n",
    "        \n",
    "#Apple\n",
    "apple_eng = []\n",
    "for row in apple:\n",
    "    if isenglish(row[2]):\n",
    "        apple_eng.append(row)\n",
    "\n",
    "print(len(google_eng))\n",
    "print(len(apple_eng))"
   ]
  },
  {
   "cell_type": "markdown",
   "metadata": {},
   "source": [
    "OK. Fewer rows, but not a dramatic cut. Apple lost a lot more than google when checking for foreign, which is mildly interesting. Finally, to cut down to free apps:\n",
    "\n",
    "### Free Apps Only"
   ]
  },
  {
   "cell_type": "code",
   "execution_count": 23,
   "metadata": {},
   "outputs": [
    {
     "name": "stdout",
     "output_type": "stream",
     "text": [
      "8861\n",
      "2961\n"
     ]
    }
   ],
   "source": [
    "#Google (Type index 6 - Free, Paid, or Nan - just one Nan)\n",
    "google = [] #Lets recover the original name\n",
    "for row in google_eng:\n",
    "    if row[6] == 'Free':\n",
    "        google.append(row)\n",
    "\n",
    "#Apple (Price index 5)\n",
    "apple = [] #Same. Recovering name.\n",
    "for row in apple_eng:\n",
    "    if float(row[5]) > 0:\n",
    "        apple.append(row)\n",
    "        \n",
    "print(len(google))\n",
    "print(len(apple))\n"
   ]
  },
  {
   "cell_type": "markdown",
   "metadata": {},
   "source": [
    "Wow, Apple sure had a higher proportion of paid apps than google. The Apple dataset was reduced by more than half. Google, less than 10%. Data cleaning complete.\n",
    "\n",
    "### Identifying winners\n",
    "\n",
    "Our plan is to identify Apps that are popular with both Apple and Android users. The steps we'll take:  \n",
    "\n",
    "1. Add minimal app to Google Play Store\n",
    "2. If it gets a good response, develop it further\n",
    "3. After 6 months, if app is profitable, build iOS version and add to Apple Store.\n",
    "\n",
    "Let's start by identifying common which genres tend to have the most apps.\n",
    "\n",
    "### Genre frequency tables\n",
    "\n",
    "First, some functions ind index indentifiers."
   ]
  },
  {
   "cell_type": "code",
   "execution_count": 24,
   "metadata": {},
   "outputs": [],
   "source": [
    "ggcat_idx = 1  #google category\n",
    "gggenre_idx = 9  #google genre\n",
    "agenre_idx = 12  #apple genre\n",
    "\n",
    "def freq_table(dataset, index, percents = False):\n",
    "    freq_dict = {}\n",
    "    for row in dataset:\n",
    "        if row[index] in freq_dict:\n",
    "            freq_dict[row[index]] += 1\n",
    "        else:\n",
    "            freq_dict[row[index]] = 1\n",
    "    \n",
    "    if percents:\n",
    "        for key in freq_dict:\n",
    "            freq_dict[key] /= len(dataset)\n",
    "            freq_dict[key] *= 100\n",
    "            freq_dict[key] = round(freq_dict[key], 2)\n",
    "            \n",
    "    return(freq_dict)\n",
    "\n",
    "def sort_dict(a_dict):\n",
    "    listtosort = []\n",
    "    for key in a_dict:\n",
    "        listtosort.append((a_dict[key], key))\n",
    "    \n",
    "    return(sorted(listtosort, reverse = True))\n"
   ]
  },
  {
   "cell_type": "markdown",
   "metadata": {},
   "source": [
    "Let's just look at the top 10 for each group"
   ]
  },
  {
   "cell_type": "code",
   "execution_count": 25,
   "metadata": {},
   "outputs": [
    {
     "name": "stdout",
     "output_type": "stream",
     "text": [
      "Google Categories\n",
      "FAMILY : 18.93\n",
      "GAME : 9.69\n",
      "TOOLS : 8.45\n",
      "BUSINESS : 4.59\n",
      "LIFESTYLE : 3.9\n",
      "PRODUCTIVITY : 3.89\n",
      "FINANCE : 3.7\n",
      "MEDICAL : 3.52\n",
      "SPORTS : 3.4\n",
      "PERSONALIZATION : 3.32\n",
      "\n",
      "Google Genres\n",
      "Tools : 8.44\n",
      "Entertainment : 6.07\n",
      "Education : 5.35\n",
      "Business : 4.59\n",
      "Productivity : 3.89\n",
      "Lifestyle : 3.89\n",
      "Finance : 3.7\n",
      "Medical : 3.52\n",
      "Sports : 3.46\n",
      "Personalization : 3.32\n",
      "\n",
      "Apple Genres\n",
      "Games : 51.27\n",
      "Education : 9.86\n",
      "Entertainment : 6.59\n",
      "Photo & Video : 6.11\n",
      "Utilities : 4.46\n",
      "Productivity : 3.78\n",
      "Health & Fitness : 3.38\n",
      "Music : 2.4\n",
      "Lifestyle : 1.62\n",
      "Weather : 1.38\n"
     ]
    }
   ],
   "source": [
    "#Prepare sorted lists\n",
    "googlecat = sort_dict(freq_table(google, ggcat_idx, percents = True))\n",
    "googlegenre = sort_dict(freq_table(google, gggenre_idx, percents = True))\n",
    "applegenre = sort_dict(freq_table(apple, agenre_idx, percents = True))\n",
    "\n",
    "#Google Categories\n",
    "print('Google Categories')\n",
    "for entry in googlecat[0:10]:\n",
    "    print(entry[1] + \" : \" + str(entry[0]))\n",
    " \n",
    "#Google Genres\n",
    "print('\\nGoogle Genres')\n",
    "for entry in googlegenre[0:10]:\n",
    "    print(entry[1] + \" : \" + str(entry[0]))\n",
    "        \n",
    "#Apple Genres\n",
    "print('\\nApple Genres')\n",
    "for entry in applegenre[0:10]:\n",
    "    print(entry[1] + \" : \" + str(entry[0]))"
   ]
  },
  {
   "cell_type": "markdown",
   "metadata": {},
   "source": [
    "#### Apple\n",
    "\n",
    "A full half of the free, English language apps on the Apple Store are games. That's huge. Entertainment also factors highly. Fun is definitely key in the Apple top 10. The remaining top 10 are virtually all more \"useful\" apps. Education, naturally, but also productivity/utilities/health & fitness, with music being the only other app we might put in the \"just for fun\" category. However, that 51% Games is hard to ignore (without looking at download figures, anyway... getting there).\n",
    "\n",
    "#### Google\n",
    "\n",
    "If we look at categories, Family and Games came out on top, though even combined they're still under 30% of the total - there's more spread than in the Apple Store. Having said that, the rest of the top 10 looks a lot like Apple, with \"useful\" apps rounding out the remainder outside of entertainment (with the exception of sports). Hard to say where Lifestyle belongs, but it does appear in all 3 lists.\n",
    "\n",
    "Now, we'll look at the average number of ratings in each genre."
   ]
  },
  {
   "cell_type": "code",
   "execution_count": 35,
   "metadata": {},
   "outputs": [
    {
     "data": {
      "text/plain": [
       "[(6696.0, 'Games'),\n",
       " (4043.0, 'Business'),\n",
       " (3872.0, 'News'),\n",
       " (3248.0, 'Weather'),\n",
       " (2759.0, 'Music'),\n",
       " (2722.0, 'Shopping'),\n",
       " (2680.0, 'Health & Fitness'),\n",
       " (2532.0, 'Photo & Video'),\n",
       " (2400.0, 'Reference'),\n",
       " (2248.0, 'Productivity'),\n",
       " (2132.0, 'Entertainment'),\n",
       " (1327.0, 'Utilities'),\n",
       " (1309.0, 'Catalogs'),\n",
       " (1175.0, 'Navigation'),\n",
       " (903.0, 'Lifestyle'),\n",
       " (883.0, 'Finance'),\n",
       " (664.0, 'Medical'),\n",
       " (641.0, 'Education'),\n",
       " (603.0, 'Travel'),\n",
       " (580.0, 'Food & Drink'),\n",
       " (393.0, 'Social Networking'),\n",
       " (320.0, 'Book'),\n",
       " (254.0, 'Sports')]"
      ]
     },
     "execution_count": 35,
     "metadata": {},
     "output_type": "execute_result"
    }
   ],
   "source": [
    "ratingtot_idx = 6\n",
    "apple_rbg = {} #ratingsbygenre\n",
    "\n",
    "for row in apple:\n",
    "    ratingcount = int(row[ratingtot_idx])\n",
    "    genre = row[12]\n",
    "    if genre in apple_rbg:\n",
    "        newratingcount = apple_rbg[genre][0] + ratingcount\n",
    "        genre_n         = apple_rbg[genre][1] + 1\n",
    "        apple_rbg[genre] = (newratingcount, genre_n)\n",
    "    else:\n",
    "        apple_rbg[genre] = (ratingcount, 1)\n",
    "\n",
    "apple_avgrating = {}\n",
    "for key in apple_rbg:\n",
    "    ratingsum = apple_rbg[key][0]\n",
    "    ratingn   = apple_rbg[key][1]\n",
    "    apple_avgrating[key] = round(float(ratingsum) / float(ratingn),0)\n",
    "    \n",
    "sort_dict(apple_avgrating) #Average NUMBER of ratings, to be clear."
   ]
  },
  {
   "cell_type": "markdown",
   "metadata": {},
   "source": [
    "Well, games seem like a winner on Apple's App Store (based solely on how many there are and how many ratings each of them tends to get. Entertainment and Photo & Video also seem to do well. Let's check out google ratings, too.\n",
    "\n",
    "### Google number of ratings\n",
    "\n",
    "Rather than reviews for Google, we'll use installs... not for any particular reason other than that we don't have a nice figure to work with so we get a minor bit of string practice. Oh, and vague estimation."
   ]
  },
  {
   "cell_type": "code",
   "execution_count": 69,
   "metadata": {},
   "outputs": [
    {
     "data": {
      "text/plain": [
       "[(628930, 'VIDEO_PLAYERS'),\n",
       " (175438, 'ART_AND_DESIGN'),\n",
       " (120481, 'LIBRARIES_AND_DEMO'),\n",
       " (117647, 'ENTERTAINMENT'),\n",
       " (116414, 'GAME'),\n",
       " (90909, 'FOOD_AND_DRINK'),\n",
       " (70422, 'WEATHER'),\n",
       " (60606, 'DATING'),\n",
       " (52631, 'BOOKS_AND_REFERENCE'),\n",
       " (48076, 'EDUCATION'),\n",
       " (40322, 'MAPS_AND_NAVIGATION'),\n",
       " (36630, 'HEALTH_AND_FITNESS'),\n",
       " (34013, 'PERSONALIZATION'),\n",
       " (28901, 'LIFESTYLE'),\n",
       " (24154, 'TRAVEL_AND_LOCAL'),\n",
       " (21186, 'SOCIAL'),\n",
       " (18181, 'COMICS'),\n",
       " (14492, 'PRODUCTIVITY'),\n",
       " (13698, 'HOUSE_AND_HOME'),\n",
       " (13351, 'TOOLS'),\n",
       " (5963, 'FAMILY'),\n",
       " (5025, 'SHOPPING'),\n",
       " (4032, 'NEWS_AND_MAGAZINES'),\n",
       " (3831, 'PHOTOGRAPHY'),\n",
       " (3484, 'COMMUNICATION'),\n",
       " (3048, 'FINANCE'),\n",
       " (2457, 'BUSINESS'),\n",
       " (1886, 'BEAUTY'),\n",
       " (332, 'SPORTS'),\n",
       " (160, 'MEDICAL'),\n",
       " (17, 'PARENTING'),\n",
       " (7, 'EVENTS'),\n",
       " (1, 'AUTO_AND_VEHICLES')]"
      ]
     },
     "execution_count": 69,
     "metadata": {},
     "output_type": "execute_result"
    }
   ],
   "source": [
    "googlecat = freq_table(google,ggcat_idx)\n",
    "\n",
    "googleavgratings = {}\n",
    "for category in googlecat:\n",
    "    total = 0.0\n",
    "    len_category = 0.0\n",
    "    for row in google:\n",
    "        category_app = row[ggcat_idx]\n",
    "        if category_app == category:\n",
    "            installs = float(row[5].replace('+','').replace(',',''))\n",
    "            total += installs\n",
    "            len_category += 1.0\n",
    "    avg_installs = int(installs / len_category)\n",
    "    googleavgratings[category] = avg_installs\n",
    "\n",
    "sort_dict(googleavgratings)\n",
    "#print(googlecat)\n",
    "    "
   ]
  },
  {
   "cell_type": "markdown",
   "metadata": {},
   "source": [
    "Well, in the Google Play store, things don't line up very well. But, it's not totally fair. Because google buckets the installs, any category with a lot of apps may also have a lot of apps in the lowest possible category, which drags the average down a lot. Any category with fewer apps, especially when a couple of apps might dominate the category, will have its contributions weighted a bit higher.\n",
    "\n",
    "Other than Games, which comes in 5th for average installs, many of the top categories in # of apps factor fairly low in terms of average installs. The next closest are personalization and lifestyle.\n",
    "\n"
   ]
  }
 ],
 "metadata": {
  "kernelspec": {
   "display_name": "Python 3",
   "language": "python",
   "name": "python3"
  },
  "language_info": {
   "codemirror_mode": {
    "name": "ipython",
    "version": 3
   },
   "file_extension": ".py",
   "mimetype": "text/x-python",
   "name": "python",
   "nbconvert_exporter": "python",
   "pygments_lexer": "ipython3",
   "version": "3.7.1"
  }
 },
 "nbformat": 4,
 "nbformat_minor": 2
}
