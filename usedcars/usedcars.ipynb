{
 "cells": [
  {
   "cell_type": "markdown",
   "metadata": {},
   "source": [
    "# Ebay Used Car Sales\n",
    "\n",
    "This is a data cleaning with Python project using Ebay car sales data from Kaggle.\n",
    "\n",
    "[Source](https://www.kaggle.com/orgesleka/used-cars-database/data')"
   ]
  },
  {
   "cell_type": "code",
   "execution_count": 185,
   "metadata": {},
   "outputs": [],
   "source": [
    "import pandas as pd\n",
    "import numpy as np\n",
    "import datetime as dt\n",
    "cars = pd.read_csv('autos.csv', encoding = 'Latin-1')"
   ]
  },
  {
   "cell_type": "code",
   "execution_count": 186,
   "metadata": {
    "scrolled": false
   },
   "outputs": [
    {
     "name": "stdout",
     "output_type": "stream",
     "text": [
      "<class 'pandas.core.frame.DataFrame'>\n",
      "RangeIndex: 371528 entries, 0 to 371527\n",
      "Data columns (total 20 columns):\n",
      "dateCrawled            371528 non-null object\n",
      "name                   371528 non-null object\n",
      "seller                 371528 non-null object\n",
      "offerType              371528 non-null object\n",
      "price                  371528 non-null int64\n",
      "abtest                 371528 non-null object\n",
      "vehicleType            333659 non-null object\n",
      "yearOfRegistration     371528 non-null int64\n",
      "gearbox                351319 non-null object\n",
      "powerPS                371528 non-null int64\n",
      "model                  351044 non-null object\n",
      "kilometer              371528 non-null int64\n",
      "monthOfRegistration    371528 non-null int64\n",
      "fuelType               338142 non-null object\n",
      "brand                  371528 non-null object\n",
      "notRepairedDamage      299468 non-null object\n",
      "dateCreated            371528 non-null object\n",
      "nrOfPictures           371528 non-null int64\n",
      "postalCode             371528 non-null int64\n",
      "lastSeen               371528 non-null object\n",
      "dtypes: int64(7), object(13)\n",
      "memory usage: 56.7+ MB\n"
     ]
    }
   ],
   "source": [
    "cars.info()"
   ]
  },
  {
   "cell_type": "code",
   "execution_count": 187,
   "metadata": {},
   "outputs": [
    {
     "data": {
      "text/html": [
       "<div>\n",
       "<style scoped>\n",
       "    .dataframe tbody tr th:only-of-type {\n",
       "        vertical-align: middle;\n",
       "    }\n",
       "\n",
       "    .dataframe tbody tr th {\n",
       "        vertical-align: top;\n",
       "    }\n",
       "\n",
       "    .dataframe thead th {\n",
       "        text-align: right;\n",
       "    }\n",
       "</style>\n",
       "<table border=\"1\" class=\"dataframe\">\n",
       "  <thead>\n",
       "    <tr style=\"text-align: right;\">\n",
       "      <th></th>\n",
       "      <th>dateCrawled</th>\n",
       "      <th>name</th>\n",
       "      <th>seller</th>\n",
       "      <th>offerType</th>\n",
       "      <th>price</th>\n",
       "      <th>abtest</th>\n",
       "      <th>vehicleType</th>\n",
       "      <th>yearOfRegistration</th>\n",
       "      <th>gearbox</th>\n",
       "      <th>powerPS</th>\n",
       "      <th>model</th>\n",
       "      <th>kilometer</th>\n",
       "      <th>monthOfRegistration</th>\n",
       "      <th>fuelType</th>\n",
       "      <th>brand</th>\n",
       "      <th>notRepairedDamage</th>\n",
       "      <th>dateCreated</th>\n",
       "      <th>nrOfPictures</th>\n",
       "      <th>postalCode</th>\n",
       "      <th>lastSeen</th>\n",
       "    </tr>\n",
       "  </thead>\n",
       "  <tbody>\n",
       "    <tr>\n",
       "      <th>0</th>\n",
       "      <td>2016-03-24 11:52:17</td>\n",
       "      <td>Golf_3_1.6</td>\n",
       "      <td>privat</td>\n",
       "      <td>Angebot</td>\n",
       "      <td>480</td>\n",
       "      <td>test</td>\n",
       "      <td>NaN</td>\n",
       "      <td>1993</td>\n",
       "      <td>manuell</td>\n",
       "      <td>0</td>\n",
       "      <td>golf</td>\n",
       "      <td>150000</td>\n",
       "      <td>0</td>\n",
       "      <td>benzin</td>\n",
       "      <td>volkswagen</td>\n",
       "      <td>NaN</td>\n",
       "      <td>2016-03-24 00:00:00</td>\n",
       "      <td>0</td>\n",
       "      <td>70435</td>\n",
       "      <td>2016-04-07 03:16:57</td>\n",
       "    </tr>\n",
       "    <tr>\n",
       "      <th>1</th>\n",
       "      <td>2016-03-24 10:58:45</td>\n",
       "      <td>A5_Sportback_2.7_Tdi</td>\n",
       "      <td>privat</td>\n",
       "      <td>Angebot</td>\n",
       "      <td>18300</td>\n",
       "      <td>test</td>\n",
       "      <td>coupe</td>\n",
       "      <td>2011</td>\n",
       "      <td>manuell</td>\n",
       "      <td>190</td>\n",
       "      <td>NaN</td>\n",
       "      <td>125000</td>\n",
       "      <td>5</td>\n",
       "      <td>diesel</td>\n",
       "      <td>audi</td>\n",
       "      <td>ja</td>\n",
       "      <td>2016-03-24 00:00:00</td>\n",
       "      <td>0</td>\n",
       "      <td>66954</td>\n",
       "      <td>2016-04-07 01:46:50</td>\n",
       "    </tr>\n",
       "    <tr>\n",
       "      <th>2</th>\n",
       "      <td>2016-03-14 12:52:21</td>\n",
       "      <td>Jeep_Grand_Cherokee_\"Overland\"</td>\n",
       "      <td>privat</td>\n",
       "      <td>Angebot</td>\n",
       "      <td>9800</td>\n",
       "      <td>test</td>\n",
       "      <td>suv</td>\n",
       "      <td>2004</td>\n",
       "      <td>automatik</td>\n",
       "      <td>163</td>\n",
       "      <td>grand</td>\n",
       "      <td>125000</td>\n",
       "      <td>8</td>\n",
       "      <td>diesel</td>\n",
       "      <td>jeep</td>\n",
       "      <td>NaN</td>\n",
       "      <td>2016-03-14 00:00:00</td>\n",
       "      <td>0</td>\n",
       "      <td>90480</td>\n",
       "      <td>2016-04-05 12:47:46</td>\n",
       "    </tr>\n",
       "    <tr>\n",
       "      <th>3</th>\n",
       "      <td>2016-03-17 16:54:04</td>\n",
       "      <td>GOLF_4_1_4__3TÜRER</td>\n",
       "      <td>privat</td>\n",
       "      <td>Angebot</td>\n",
       "      <td>1500</td>\n",
       "      <td>test</td>\n",
       "      <td>kleinwagen</td>\n",
       "      <td>2001</td>\n",
       "      <td>manuell</td>\n",
       "      <td>75</td>\n",
       "      <td>golf</td>\n",
       "      <td>150000</td>\n",
       "      <td>6</td>\n",
       "      <td>benzin</td>\n",
       "      <td>volkswagen</td>\n",
       "      <td>nein</td>\n",
       "      <td>2016-03-17 00:00:00</td>\n",
       "      <td>0</td>\n",
       "      <td>91074</td>\n",
       "      <td>2016-03-17 17:40:17</td>\n",
       "    </tr>\n",
       "    <tr>\n",
       "      <th>4</th>\n",
       "      <td>2016-03-31 17:25:20</td>\n",
       "      <td>Skoda_Fabia_1.4_TDI_PD_Classic</td>\n",
       "      <td>privat</td>\n",
       "      <td>Angebot</td>\n",
       "      <td>3600</td>\n",
       "      <td>test</td>\n",
       "      <td>kleinwagen</td>\n",
       "      <td>2008</td>\n",
       "      <td>manuell</td>\n",
       "      <td>69</td>\n",
       "      <td>fabia</td>\n",
       "      <td>90000</td>\n",
       "      <td>7</td>\n",
       "      <td>diesel</td>\n",
       "      <td>skoda</td>\n",
       "      <td>nein</td>\n",
       "      <td>2016-03-31 00:00:00</td>\n",
       "      <td>0</td>\n",
       "      <td>60437</td>\n",
       "      <td>2016-04-06 10:17:21</td>\n",
       "    </tr>\n",
       "  </tbody>\n",
       "</table>\n",
       "</div>"
      ],
      "text/plain": [
       "           dateCrawled                            name  seller offerType  \\\n",
       "0  2016-03-24 11:52:17                      Golf_3_1.6  privat   Angebot   \n",
       "1  2016-03-24 10:58:45            A5_Sportback_2.7_Tdi  privat   Angebot   \n",
       "2  2016-03-14 12:52:21  Jeep_Grand_Cherokee_\"Overland\"  privat   Angebot   \n",
       "3  2016-03-17 16:54:04              GOLF_4_1_4__3TÜRER  privat   Angebot   \n",
       "4  2016-03-31 17:25:20  Skoda_Fabia_1.4_TDI_PD_Classic  privat   Angebot   \n",
       "\n",
       "   price abtest vehicleType  yearOfRegistration    gearbox  powerPS  model  \\\n",
       "0    480   test         NaN                1993    manuell        0   golf   \n",
       "1  18300   test       coupe                2011    manuell      190    NaN   \n",
       "2   9800   test         suv                2004  automatik      163  grand   \n",
       "3   1500   test  kleinwagen                2001    manuell       75   golf   \n",
       "4   3600   test  kleinwagen                2008    manuell       69  fabia   \n",
       "\n",
       "   kilometer  monthOfRegistration fuelType       brand notRepairedDamage  \\\n",
       "0     150000                    0   benzin  volkswagen               NaN   \n",
       "1     125000                    5   diesel        audi                ja   \n",
       "2     125000                    8   diesel        jeep               NaN   \n",
       "3     150000                    6   benzin  volkswagen              nein   \n",
       "4      90000                    7   diesel       skoda              nein   \n",
       "\n",
       "           dateCreated  nrOfPictures  postalCode             lastSeen  \n",
       "0  2016-03-24 00:00:00             0       70435  2016-04-07 03:16:57  \n",
       "1  2016-03-24 00:00:00             0       66954  2016-04-07 01:46:50  \n",
       "2  2016-03-14 00:00:00             0       90480  2016-04-05 12:47:46  \n",
       "3  2016-03-17 00:00:00             0       91074  2016-03-17 17:40:17  \n",
       "4  2016-03-31 00:00:00             0       60437  2016-04-06 10:17:21  "
      ]
     },
     "execution_count": 187,
     "metadata": {},
     "output_type": "execute_result"
    }
   ],
   "source": [
    "cars.head()"
   ]
  },
  {
   "cell_type": "markdown",
   "metadata": {},
   "source": [
    "The first thing we notice is that the results are not in English (well, the variable names are, but not the values). They're in German. 5 variables have some missing values, and the names are in a difficult-to-read format."
   ]
  },
  {
   "cell_type": "code",
   "execution_count": 188,
   "metadata": {},
   "outputs": [],
   "source": [
    "#All df names to snakecase, with some manual renaming\n",
    "\n",
    "cars = cars.rename({\"yearOfRegistration\" : \"registration_year\", \"monthOfRegistration\" : \"registration_month\",\n",
    "            \"notRepairedDamage\" : \"unrepaired_damage\", \"dateCreated\" : \"ad_created\",\n",
    "            \"powerPS\" : \"power_ps\"}, axis = 'columns')\n",
    "\n",
    "colnames = []\n",
    "[colnames.append(i) for i in cars.columns]\n",
    "\n",
    "colnames_snake = []\n",
    "for i in colnames:\n",
    "    targetname = i\n",
    "    for char in targetname:\n",
    "        if char.isupper():\n",
    "            targetname = targetname.replace(char, '_' + char.lower())\n",
    "    colnames_snake.append(targetname)\n",
    "cars.columns = colnames_snake"
   ]
  },
  {
   "cell_type": "markdown",
   "metadata": {},
   "source": [
    "All variable names are now in snake case. This is just more python-y. Plus it was good practice.\n",
    "\n",
    "Now, a bit of Exploratory Data Analysis."
   ]
  },
  {
   "cell_type": "code",
   "execution_count": 189,
   "metadata": {},
   "outputs": [
    {
     "data": {
      "text/html": [
       "<div>\n",
       "<style scoped>\n",
       "    .dataframe tbody tr th:only-of-type {\n",
       "        vertical-align: middle;\n",
       "    }\n",
       "\n",
       "    .dataframe tbody tr th {\n",
       "        vertical-align: top;\n",
       "    }\n",
       "\n",
       "    .dataframe thead th {\n",
       "        text-align: right;\n",
       "    }\n",
       "</style>\n",
       "<table border=\"1\" class=\"dataframe\">\n",
       "  <thead>\n",
       "    <tr style=\"text-align: right;\">\n",
       "      <th></th>\n",
       "      <th>date_crawled</th>\n",
       "      <th>name</th>\n",
       "      <th>seller</th>\n",
       "      <th>offer_type</th>\n",
       "      <th>price</th>\n",
       "      <th>abtest</th>\n",
       "      <th>vehicle_type</th>\n",
       "      <th>registration_year</th>\n",
       "      <th>gearbox</th>\n",
       "      <th>power_ps</th>\n",
       "      <th>model</th>\n",
       "      <th>kilometer</th>\n",
       "      <th>registration_month</th>\n",
       "      <th>fuel_type</th>\n",
       "      <th>brand</th>\n",
       "      <th>unrepaired_damage</th>\n",
       "      <th>ad_created</th>\n",
       "      <th>nr_of_pictures</th>\n",
       "      <th>postal_code</th>\n",
       "      <th>last_seen</th>\n",
       "    </tr>\n",
       "  </thead>\n",
       "  <tbody>\n",
       "    <tr>\n",
       "      <th>count</th>\n",
       "      <td>371528</td>\n",
       "      <td>371528</td>\n",
       "      <td>371528</td>\n",
       "      <td>371528</td>\n",
       "      <td>3.715280e+05</td>\n",
       "      <td>371528</td>\n",
       "      <td>333659</td>\n",
       "      <td>371528.000000</td>\n",
       "      <td>351319</td>\n",
       "      <td>371528.000000</td>\n",
       "      <td>351044</td>\n",
       "      <td>371528.000000</td>\n",
       "      <td>371528.000000</td>\n",
       "      <td>338142</td>\n",
       "      <td>371528</td>\n",
       "      <td>299468</td>\n",
       "      <td>371528</td>\n",
       "      <td>371528.0</td>\n",
       "      <td>371528.00000</td>\n",
       "      <td>371528</td>\n",
       "    </tr>\n",
       "    <tr>\n",
       "      <th>unique</th>\n",
       "      <td>280500</td>\n",
       "      <td>233531</td>\n",
       "      <td>2</td>\n",
       "      <td>2</td>\n",
       "      <td>NaN</td>\n",
       "      <td>2</td>\n",
       "      <td>8</td>\n",
       "      <td>NaN</td>\n",
       "      <td>2</td>\n",
       "      <td>NaN</td>\n",
       "      <td>251</td>\n",
       "      <td>NaN</td>\n",
       "      <td>NaN</td>\n",
       "      <td>7</td>\n",
       "      <td>40</td>\n",
       "      <td>2</td>\n",
       "      <td>114</td>\n",
       "      <td>NaN</td>\n",
       "      <td>NaN</td>\n",
       "      <td>182806</td>\n",
       "    </tr>\n",
       "    <tr>\n",
       "      <th>top</th>\n",
       "      <td>2016-03-24 14:49:47</td>\n",
       "      <td>Ford_Fiesta</td>\n",
       "      <td>privat</td>\n",
       "      <td>Angebot</td>\n",
       "      <td>NaN</td>\n",
       "      <td>test</td>\n",
       "      <td>limousine</td>\n",
       "      <td>NaN</td>\n",
       "      <td>manuell</td>\n",
       "      <td>NaN</td>\n",
       "      <td>golf</td>\n",
       "      <td>NaN</td>\n",
       "      <td>NaN</td>\n",
       "      <td>benzin</td>\n",
       "      <td>volkswagen</td>\n",
       "      <td>nein</td>\n",
       "      <td>2016-04-03 00:00:00</td>\n",
       "      <td>NaN</td>\n",
       "      <td>NaN</td>\n",
       "      <td>2016-04-07 06:45:59</td>\n",
       "    </tr>\n",
       "    <tr>\n",
       "      <th>freq</th>\n",
       "      <td>7</td>\n",
       "      <td>657</td>\n",
       "      <td>371525</td>\n",
       "      <td>371516</td>\n",
       "      <td>NaN</td>\n",
       "      <td>192585</td>\n",
       "      <td>95894</td>\n",
       "      <td>NaN</td>\n",
       "      <td>274214</td>\n",
       "      <td>NaN</td>\n",
       "      <td>30070</td>\n",
       "      <td>NaN</td>\n",
       "      <td>NaN</td>\n",
       "      <td>223857</td>\n",
       "      <td>79640</td>\n",
       "      <td>263182</td>\n",
       "      <td>14450</td>\n",
       "      <td>NaN</td>\n",
       "      <td>NaN</td>\n",
       "      <td>17</td>\n",
       "    </tr>\n",
       "    <tr>\n",
       "      <th>mean</th>\n",
       "      <td>NaN</td>\n",
       "      <td>NaN</td>\n",
       "      <td>NaN</td>\n",
       "      <td>NaN</td>\n",
       "      <td>1.729514e+04</td>\n",
       "      <td>NaN</td>\n",
       "      <td>NaN</td>\n",
       "      <td>2004.577997</td>\n",
       "      <td>NaN</td>\n",
       "      <td>115.549477</td>\n",
       "      <td>NaN</td>\n",
       "      <td>125618.688228</td>\n",
       "      <td>5.734445</td>\n",
       "      <td>NaN</td>\n",
       "      <td>NaN</td>\n",
       "      <td>NaN</td>\n",
       "      <td>NaN</td>\n",
       "      <td>0.0</td>\n",
       "      <td>50820.66764</td>\n",
       "      <td>NaN</td>\n",
       "    </tr>\n",
       "    <tr>\n",
       "      <th>std</th>\n",
       "      <td>NaN</td>\n",
       "      <td>NaN</td>\n",
       "      <td>NaN</td>\n",
       "      <td>NaN</td>\n",
       "      <td>3.587954e+06</td>\n",
       "      <td>NaN</td>\n",
       "      <td>NaN</td>\n",
       "      <td>92.866598</td>\n",
       "      <td>NaN</td>\n",
       "      <td>192.139578</td>\n",
       "      <td>NaN</td>\n",
       "      <td>40112.337051</td>\n",
       "      <td>3.712412</td>\n",
       "      <td>NaN</td>\n",
       "      <td>NaN</td>\n",
       "      <td>NaN</td>\n",
       "      <td>NaN</td>\n",
       "      <td>0.0</td>\n",
       "      <td>25799.08247</td>\n",
       "      <td>NaN</td>\n",
       "    </tr>\n",
       "    <tr>\n",
       "      <th>min</th>\n",
       "      <td>NaN</td>\n",
       "      <td>NaN</td>\n",
       "      <td>NaN</td>\n",
       "      <td>NaN</td>\n",
       "      <td>0.000000e+00</td>\n",
       "      <td>NaN</td>\n",
       "      <td>NaN</td>\n",
       "      <td>1000.000000</td>\n",
       "      <td>NaN</td>\n",
       "      <td>0.000000</td>\n",
       "      <td>NaN</td>\n",
       "      <td>5000.000000</td>\n",
       "      <td>0.000000</td>\n",
       "      <td>NaN</td>\n",
       "      <td>NaN</td>\n",
       "      <td>NaN</td>\n",
       "      <td>NaN</td>\n",
       "      <td>0.0</td>\n",
       "      <td>1067.00000</td>\n",
       "      <td>NaN</td>\n",
       "    </tr>\n",
       "    <tr>\n",
       "      <th>25%</th>\n",
       "      <td>NaN</td>\n",
       "      <td>NaN</td>\n",
       "      <td>NaN</td>\n",
       "      <td>NaN</td>\n",
       "      <td>1.150000e+03</td>\n",
       "      <td>NaN</td>\n",
       "      <td>NaN</td>\n",
       "      <td>1999.000000</td>\n",
       "      <td>NaN</td>\n",
       "      <td>70.000000</td>\n",
       "      <td>NaN</td>\n",
       "      <td>125000.000000</td>\n",
       "      <td>3.000000</td>\n",
       "      <td>NaN</td>\n",
       "      <td>NaN</td>\n",
       "      <td>NaN</td>\n",
       "      <td>NaN</td>\n",
       "      <td>0.0</td>\n",
       "      <td>30459.00000</td>\n",
       "      <td>NaN</td>\n",
       "    </tr>\n",
       "    <tr>\n",
       "      <th>50%</th>\n",
       "      <td>NaN</td>\n",
       "      <td>NaN</td>\n",
       "      <td>NaN</td>\n",
       "      <td>NaN</td>\n",
       "      <td>2.950000e+03</td>\n",
       "      <td>NaN</td>\n",
       "      <td>NaN</td>\n",
       "      <td>2003.000000</td>\n",
       "      <td>NaN</td>\n",
       "      <td>105.000000</td>\n",
       "      <td>NaN</td>\n",
       "      <td>150000.000000</td>\n",
       "      <td>6.000000</td>\n",
       "      <td>NaN</td>\n",
       "      <td>NaN</td>\n",
       "      <td>NaN</td>\n",
       "      <td>NaN</td>\n",
       "      <td>0.0</td>\n",
       "      <td>49610.00000</td>\n",
       "      <td>NaN</td>\n",
       "    </tr>\n",
       "    <tr>\n",
       "      <th>75%</th>\n",
       "      <td>NaN</td>\n",
       "      <td>NaN</td>\n",
       "      <td>NaN</td>\n",
       "      <td>NaN</td>\n",
       "      <td>7.200000e+03</td>\n",
       "      <td>NaN</td>\n",
       "      <td>NaN</td>\n",
       "      <td>2008.000000</td>\n",
       "      <td>NaN</td>\n",
       "      <td>150.000000</td>\n",
       "      <td>NaN</td>\n",
       "      <td>150000.000000</td>\n",
       "      <td>9.000000</td>\n",
       "      <td>NaN</td>\n",
       "      <td>NaN</td>\n",
       "      <td>NaN</td>\n",
       "      <td>NaN</td>\n",
       "      <td>0.0</td>\n",
       "      <td>71546.00000</td>\n",
       "      <td>NaN</td>\n",
       "    </tr>\n",
       "    <tr>\n",
       "      <th>max</th>\n",
       "      <td>NaN</td>\n",
       "      <td>NaN</td>\n",
       "      <td>NaN</td>\n",
       "      <td>NaN</td>\n",
       "      <td>2.147484e+09</td>\n",
       "      <td>NaN</td>\n",
       "      <td>NaN</td>\n",
       "      <td>9999.000000</td>\n",
       "      <td>NaN</td>\n",
       "      <td>20000.000000</td>\n",
       "      <td>NaN</td>\n",
       "      <td>150000.000000</td>\n",
       "      <td>12.000000</td>\n",
       "      <td>NaN</td>\n",
       "      <td>NaN</td>\n",
       "      <td>NaN</td>\n",
       "      <td>NaN</td>\n",
       "      <td>0.0</td>\n",
       "      <td>99998.00000</td>\n",
       "      <td>NaN</td>\n",
       "    </tr>\n",
       "  </tbody>\n",
       "</table>\n",
       "</div>"
      ],
      "text/plain": [
       "               date_crawled         name  seller offer_type         price  \\\n",
       "count                371528       371528  371528     371528  3.715280e+05   \n",
       "unique               280500       233531       2          2           NaN   \n",
       "top     2016-03-24 14:49:47  Ford_Fiesta  privat    Angebot           NaN   \n",
       "freq                      7          657  371525     371516           NaN   \n",
       "mean                    NaN          NaN     NaN        NaN  1.729514e+04   \n",
       "std                     NaN          NaN     NaN        NaN  3.587954e+06   \n",
       "min                     NaN          NaN     NaN        NaN  0.000000e+00   \n",
       "25%                     NaN          NaN     NaN        NaN  1.150000e+03   \n",
       "50%                     NaN          NaN     NaN        NaN  2.950000e+03   \n",
       "75%                     NaN          NaN     NaN        NaN  7.200000e+03   \n",
       "max                     NaN          NaN     NaN        NaN  2.147484e+09   \n",
       "\n",
       "        abtest vehicle_type  registration_year  gearbox       power_ps  \\\n",
       "count   371528       333659      371528.000000   351319  371528.000000   \n",
       "unique       2            8                NaN        2            NaN   \n",
       "top       test    limousine                NaN  manuell            NaN   \n",
       "freq    192585        95894                NaN   274214            NaN   \n",
       "mean       NaN          NaN        2004.577997      NaN     115.549477   \n",
       "std        NaN          NaN          92.866598      NaN     192.139578   \n",
       "min        NaN          NaN        1000.000000      NaN       0.000000   \n",
       "25%        NaN          NaN        1999.000000      NaN      70.000000   \n",
       "50%        NaN          NaN        2003.000000      NaN     105.000000   \n",
       "75%        NaN          NaN        2008.000000      NaN     150.000000   \n",
       "max        NaN          NaN        9999.000000      NaN   20000.000000   \n",
       "\n",
       "         model      kilometer  registration_month fuel_type       brand  \\\n",
       "count   351044  371528.000000       371528.000000    338142      371528   \n",
       "unique     251            NaN                 NaN         7          40   \n",
       "top       golf            NaN                 NaN    benzin  volkswagen   \n",
       "freq     30070            NaN                 NaN    223857       79640   \n",
       "mean       NaN  125618.688228            5.734445       NaN         NaN   \n",
       "std        NaN   40112.337051            3.712412       NaN         NaN   \n",
       "min        NaN    5000.000000            0.000000       NaN         NaN   \n",
       "25%        NaN  125000.000000            3.000000       NaN         NaN   \n",
       "50%        NaN  150000.000000            6.000000       NaN         NaN   \n",
       "75%        NaN  150000.000000            9.000000       NaN         NaN   \n",
       "max        NaN  150000.000000           12.000000       NaN         NaN   \n",
       "\n",
       "       unrepaired_damage           ad_created  nr_of_pictures   postal_code  \\\n",
       "count             299468               371528        371528.0  371528.00000   \n",
       "unique                 2                  114             NaN           NaN   \n",
       "top                 nein  2016-04-03 00:00:00             NaN           NaN   \n",
       "freq              263182                14450             NaN           NaN   \n",
       "mean                 NaN                  NaN             0.0   50820.66764   \n",
       "std                  NaN                  NaN             0.0   25799.08247   \n",
       "min                  NaN                  NaN             0.0    1067.00000   \n",
       "25%                  NaN                  NaN             0.0   30459.00000   \n",
       "50%                  NaN                  NaN             0.0   49610.00000   \n",
       "75%                  NaN                  NaN             0.0   71546.00000   \n",
       "max                  NaN                  NaN             0.0   99998.00000   \n",
       "\n",
       "                  last_seen  \n",
       "count                371528  \n",
       "unique               182806  \n",
       "top     2016-04-07 06:45:59  \n",
       "freq                     17  \n",
       "mean                    NaN  \n",
       "std                     NaN  \n",
       "min                     NaN  \n",
       "25%                     NaN  \n",
       "50%                     NaN  \n",
       "75%                     NaN  \n",
       "max                     NaN  "
      ]
     },
     "execution_count": 189,
     "metadata": {},
     "output_type": "execute_result"
    }
   ],
   "source": [
    "cars.describe(include = \"all\")"
   ]
  },
  {
   "cell_type": "code",
   "execution_count": 190,
   "metadata": {},
   "outputs": [
    {
     "data": {
      "text/plain": [
       "nein    263182\n",
       "ja       36286\n",
       "Name: unrepaired_damage, dtype: int64"
      ]
     },
     "execution_count": 190,
     "metadata": {},
     "output_type": "execute_result"
    }
   ],
   "source": [
    "cars['unrepaired_damage'].value_counts()"
   ]
  },
  {
   "cell_type": "code",
   "execution_count": 191,
   "metadata": {},
   "outputs": [],
   "source": [
    "cars = cars.rename({'kilometer':'odometer_km'}, axis = \"columns\")"
   ]
  },
  {
   "cell_type": "markdown",
   "metadata": {},
   "source": [
    "**Columns without much variance**:  \n",
    "1. seller (virtually all are 'privat')  \n",
    "2. offer_type (Angebot, all but 12)\n",
    "\n",
    "**Columns to investigate**:\n",
    "1. nr_of_pictures (numeric... all 0s?)\n",
    "\n",
    "seller and offer_type will be removed. If number of pictures sums to 0, it will be removed as well.\n"
   ]
  },
  {
   "cell_type": "code",
   "execution_count": 192,
   "metadata": {},
   "outputs": [],
   "source": [
    "cars['nr_of_pictures'].sum() # = 0\n",
    "cars = cars.drop(['seller','offer_type','nr_of_pictures'], axis='columns')"
   ]
  },
  {
   "cell_type": "markdown",
   "metadata": {},
   "source": [
    "There are also some values that don't make sense:  \n",
    "1. Registration years greater than the latest date in the data\n",
    "2. Registration months equal to 0  \n",
    "3. Billion dollar prices (nice car)  \n",
    "4. power_pos has a very high max values\n",
    "5. Suspicious odometer column... looks like a lot of values are rounded to 150,000 km\n",
    "\n",
    "We'll check and remove or replace them in order.\n"
   ]
  },
  {
   "cell_type": "code",
   "execution_count": 194,
   "metadata": {},
   "outputs": [
    {
     "name": "stdout",
     "output_type": "stream",
     "text": [
      "(0, 17)\n",
      "(14680, 17)\n",
      "(68, 17)\n"
     ]
    }
   ],
   "source": [
    "print(cars[cars['date_crawled'] > '2016-05-01'].shape)\n",
    "print(cars[cars['registration_year'] >= 2017].shape)\n",
    "print(cars[cars['registration_year'] < 1910].shape)"
   ]
  },
  {
   "cell_type": "markdown",
   "metadata": {},
   "source": [
    "Though 14,680 is no small figure, it seems unlikely that there were any 2017 model vehicles in the classifieds given that all the data was scraped before May 2016. As far as I can tell, this is possible, but very rare.\n",
    "\n",
    "We'll remove them.\n",
    "\n",
    "There are far fewer vehicles with first registration before 1910. If we look, there are a few more between 1910 and 1920, but they look like they may be real."
   ]
  },
  {
   "cell_type": "code",
   "execution_count": 195,
   "metadata": {},
   "outputs": [],
   "source": [
    "cars = cars[cars['registration_year'].between(1910,2016)]"
   ]
  },
  {
   "cell_type": "markdown",
   "metadata": {},
   "source": [
    "Now a look at registration months."
   ]
  },
  {
   "cell_type": "code",
   "execution_count": 196,
   "metadata": {
    "scrolled": false
   },
   "outputs": [
    {
     "name": "stdout",
     "output_type": "stream",
     "text": [
      "(33915, 17)\n",
      "           date_crawled                                               name  \\\n",
      "0   2016-03-24 11:52:17                                         Golf_3_1.6   \n",
      "9   2016-03-17 10:53:50  VW_Golf_4_5_tuerig_zu_verkaufen_mit_Anhaengerk...   \n",
      "15  2016-03-11 21:39:15                       KA_Lufthansa_Edition_450_VB   \n",
      "16  2016-04-01 12:46:46                                        Polo_6n_1_4   \n",
      "36  2016-03-11 11:50:37                                   Opel_Kadett_E_CC   \n",
      "\n",
      "    price   abtest vehicle_type  registration_year  gearbox  power_ps   model  \\\n",
      "0     480     test          NaN               1993  manuell         0    golf   \n",
      "9     999     test   kleinwagen               1998  manuell       101    golf   \n",
      "15    450     test   kleinwagen               1910      NaN         0      ka   \n",
      "16    300     test          NaN               2016      NaN        60    polo   \n",
      "36   1600  control       andere               1991  manuell        75  kadett   \n",
      "\n",
      "    odometer_km  registration_month fuel_type       brand unrepaired_damage  \\\n",
      "0        150000                   0    benzin  volkswagen               NaN   \n",
      "9        150000                   0       NaN  volkswagen               NaN   \n",
      "15         5000                   0    benzin        ford               NaN   \n",
      "16       150000                   0    benzin  volkswagen               NaN   \n",
      "36        70000                   0       NaN        opel               NaN   \n",
      "\n",
      "             ad_created  postal_code            last_seen  \n",
      "0   2016-03-24 00:00:00        70435  2016-04-07 03:16:57  \n",
      "9   2016-03-17 00:00:00        27472  2016-03-31 17:17:06  \n",
      "15  2016-03-11 00:00:00        24148  2016-03-19 08:46:47  \n",
      "16  2016-04-01 00:00:00        38871  2016-04-01 12:46:46  \n",
      "36  2016-03-11 00:00:00         2943  2016-04-07 03:46:09  \n"
     ]
    }
   ],
   "source": [
    "print(cars[~cars['registration_month'].between(1,12)].shape)\n",
    "print(cars[~cars['registration_month'].between(1,12)].head())"
   ]
  },
  {
   "cell_type": "markdown",
   "metadata": {},
   "source": [
    "Though there are nearly 34,000 ads with a registration month of 0, this is probably just omission by the poster. There doesn't seem to be any particular issue here.\n",
    "\n",
    "Next up: Billion dollar vehicles."
   ]
  },
  {
   "cell_type": "code",
   "execution_count": 197,
   "metadata": {},
   "outputs": [
    {
     "data": {
      "text/plain": [
       "99999999      14\n",
       "999999        11\n",
       "11111111       9\n",
       "12345678       7\n",
       "10000000       6\n",
       "1000000        5\n",
       "9999999        3\n",
       "1600000        2\n",
       "1111111        2\n",
       "745000         2\n",
       "1250000        2\n",
       "600000         2\n",
       "650000         1\n",
       "99000000       1\n",
       "74185296       1\n",
       "999990         1\n",
       "820000         1\n",
       "911911         1\n",
       "585000         1\n",
       "725000         1\n",
       "517895         1\n",
       "2147483647     1\n",
       "32545461       1\n",
       "10010011       1\n",
       "579000         1\n",
       "27322222       1\n",
       "780000         1\n",
       "2795000        1\n",
       "619000         1\n",
       "14000500       1\n",
       "599000         1\n",
       "2995000        1\n",
       "700000         1\n",
       "1300000        1\n",
       "3895000        1\n",
       "1234566        1\n",
       "849000         1\n",
       "3890000        1\n",
       "Name: price, dtype: int64"
      ]
     },
     "execution_count": 197,
     "metadata": {},
     "output_type": "execute_result"
    }
   ],
   "source": [
    "cars[cars['price'] > 5e5]['price'].value_counts()"
   ]
  },
  {
   "cell_type": "markdown",
   "metadata": {},
   "source": [
    "While there are some values here that are likely legitimate, most of the values seem like fake prices. If I were concerned with these cars anyway, it would be little hassle to do some searching to see which might be legitimate, but for now we'll just delete anything over $500K."
   ]
  },
  {
   "cell_type": "code",
   "execution_count": 198,
   "metadata": {},
   "outputs": [
    {
     "name": "stdout",
     "output_type": "stream",
     "text": [
      "(356687, 17)\n"
     ]
    }
   ],
   "source": [
    "cars = cars[cars['price'] < 5e5]\n",
    "print(cars.shape)"
   ]
  },
  {
   "cell_type": "markdown",
   "metadata": {},
   "source": [
    "Now, to some power_ps values that are very high. A quick google search tells us that some of the most powerful cars ever have had PS (somewhat close to horsepower) in the low 800s. A couple of quick google searches of the cars in the data set tell us that none of them have anywhere near the POS they're showing. We'll remove those, too.\n",
    "\n",
    "Chances are we don't really need to remove them. We could just null these values, depending on what we want to do. Or even look up the cars and get their real horsepower, but we have several hundred thousand and that's a high-effort fix for a few hundred rows in a coding exercise."
   ]
  },
  {
   "cell_type": "code",
   "execution_count": 199,
   "metadata": {},
   "outputs": [],
   "source": [
    "cars = cars[cars['power_ps'] < 800]"
   ]
  },
  {
   "cell_type": "markdown",
   "metadata": {},
   "source": [
    "Finally... what's up with that odometer column?"
   ]
  },
  {
   "cell_type": "code",
   "execution_count": 200,
   "metadata": {},
   "outputs": [
    {
     "data": {
      "text/plain": [
       "150000    229916\n",
       "125000     36623\n",
       "100000     15434\n",
       "90000      12141\n",
       "80000      10749\n",
       "70000       9527\n",
       "60000       8501\n",
       "50000       7435\n",
       "5000        6549\n",
       "40000       6263\n",
       "30000       5894\n",
       "20000       5497\n",
       "10000       1843\n",
       "Name: odometer_km, dtype: int64"
      ]
     },
     "execution_count": 200,
     "metadata": {},
     "output_type": "execute_result"
    }
   ],
   "source": [
    "cars['odometer_km'].value_counts()"
   ]
  },
  {
   "cell_type": "markdown",
   "metadata": {},
   "source": [
    "Hmm. I wouldn't call any of these outliers, but it's fairly clear that anything over 150K (and possibly under, and rounded up?) is rounded down to 150K."
   ]
  },
  {
   "cell_type": "markdown",
   "metadata": {},
   "source": [
    "Use the workflow we just described to calculate the distribution of values in the date_crawled, ad_created, and last_seen columns (all string columns) as percentages.\n",
    "\n",
    "To include missing values in the distribution and to use percentages instead of counts, chain the Series.value_counts(normalize=True, dropna=False) method.\n",
    "\n",
    "To rank by date in ascending order (earliest to latest), chain the Series.sort_index() method.\n",
    "\n",
    "Write a markdown cell after each column exploration to explain your observations.\n",
    "\n",
    "Use Series.describe() to understand the distribution of registration_year.\n",
    "\n",
    "Write a markdown cell explaining your observations"
   ]
  },
  {
   "cell_type": "code",
   "execution_count": 201,
   "metadata": {},
   "outputs": [],
   "source": [
    "cars['date_crawled'] = pd.to_datetime(cars['date_crawled'])\n",
    "cars['ad_created']   = pd.to_datetime(cars['ad_created'])\n",
    "cars['last_seen']    = pd.to_datetime(cars['last_seen'])"
   ]
  },
  {
   "cell_type": "code",
   "execution_count": 202,
   "metadata": {},
   "outputs": [
    {
     "data": {
      "text/plain": [
       "2016-03-05     9142\n",
       "2016-03-06     5187\n",
       "2016-03-07    12771\n",
       "2016-03-08    11961\n",
       "2016-03-09    12204\n",
       "2016-03-10    11621\n",
       "2016-03-11    11647\n",
       "2016-03-12    12901\n",
       "2016-03-13     5616\n",
       "2016-03-14    12884\n",
       "2016-03-15    11915\n",
       "2016-03-16    10765\n",
       "2016-03-17    11245\n",
       "2016-03-18     4662\n",
       "2016-03-19    12554\n",
       "2016-03-20    12976\n",
       "2016-03-21    12737\n",
       "2016-03-22    11569\n",
       "2016-03-23    11387\n",
       "2016-03-24    10653\n",
       "2016-03-25    11731\n",
       "2016-03-26    11386\n",
       "2016-03-27    10733\n",
       "2016-03-28    12486\n",
       "2016-03-29    12183\n",
       "2016-03-30    11951\n",
       "2016-03-31    11354\n",
       "2016-04-01    12177\n",
       "2016-04-02    12486\n",
       "2016-04-03    13825\n",
       "2016-04-04    13428\n",
       "2016-04-05     4535\n",
       "2016-04-06     1130\n",
       "2016-04-07      570\n",
       "Name: date_crawled, dtype: int64"
      ]
     },
     "execution_count": 202,
     "metadata": {},
     "output_type": "execute_result"
    }
   ],
   "source": [
    "cars['date_crawled'].dt.strftime('%Y-%m-%d').value_counts(dropna = False).sort_index()"
   ]
  },
  {
   "cell_type": "markdown",
   "metadata": {},
   "source": [
    "OK, looks like the crawling was completed for about a month in March 2016 and tailed off a little at the end... not sure whether this information adds any value at all, though."
   ]
  },
  {
   "cell_type": "code",
   "execution_count": 203,
   "metadata": {},
   "outputs": [
    {
     "data": {
      "text/plain": [
       "2014-03-10        1\n",
       "2015-03-20        1\n",
       "2015-06-11        1\n",
       "2015-06-18        1\n",
       "2015-08-07        1\n",
       "2015-08-10        1\n",
       "2015-09-04        2\n",
       "2015-09-09        1\n",
       "2015-10-14        1\n",
       "2015-11-02        1\n",
       "2015-11-08        1\n",
       "2015-11-10        1\n",
       "2015-11-12        1\n",
       "2015-11-13        1\n",
       "2015-11-17        1\n",
       "2015-11-23        2\n",
       "2015-11-24        2\n",
       "2015-12-05        3\n",
       "2015-12-06        1\n",
       "2015-12-17        1\n",
       "2015-12-27        1\n",
       "2015-12-28        1\n",
       "2015-12-30        3\n",
       "2016-01-02        4\n",
       "2016-01-03        1\n",
       "2016-01-06        1\n",
       "2016-01-07        3\n",
       "2016-01-08        1\n",
       "2016-01-10        4\n",
       "2016-01-13        3\n",
       "              ...  \n",
       "2016-03-09    12215\n",
       "2016-03-10    11581\n",
       "2016-03-11    11657\n",
       "2016-03-12    12843\n",
       "2016-03-13     6070\n",
       "2016-03-14    12514\n",
       "2016-03-15    11882\n",
       "2016-03-16    10847\n",
       "2016-03-17    11100\n",
       "2016-03-18     4976\n",
       "2016-03-19    12219\n",
       "2016-03-20    13014\n",
       "2016-03-21    12764\n",
       "2016-03-22    11459\n",
       "2016-03-23    11369\n",
       "2016-03-24    10677\n",
       "2016-03-25    11757\n",
       "2016-03-26    11430\n",
       "2016-03-27    10641\n",
       "2016-03-28    12521\n",
       "2016-03-29    12192\n",
       "2016-03-30    11902\n",
       "2016-03-31    11381\n",
       "2016-04-01    12126\n",
       "2016-04-02    12444\n",
       "2016-04-03    13889\n",
       "2016-04-04    13465\n",
       "2016-04-05     4121\n",
       "2016-04-06     1126\n",
       "2016-04-07      549\n",
       "Name: ad_created, Length: 113, dtype: int64"
      ]
     },
     "execution_count": 203,
     "metadata": {},
     "output_type": "execute_result"
    }
   ],
   "source": [
    "cars['ad_created'].dt.strftime('%Y-%m-%d').value_counts(dropna = False).sort_index()"
   ]
  },
  {
   "cell_type": "markdown",
   "metadata": {},
   "source": [
    "ad_created looks much like date_crawled. It's a bit different, but not by much. "
   ]
  },
  {
   "cell_type": "code",
   "execution_count": 204,
   "metadata": {
    "scrolled": true
   },
   "outputs": [
    {
     "data": {
      "text/plain": [
       "2016-03-05      461\n",
       "2016-03-06     1459\n",
       "2016-03-07     1880\n",
       "2016-03-08     2841\n",
       "2016-03-09     3539\n",
       "2016-03-10     4100\n",
       "2016-03-11     4621\n",
       "2016-03-12     8293\n",
       "2016-03-13     2997\n",
       "2016-03-14     4367\n",
       "2016-03-15     5832\n",
       "2016-03-16     5816\n",
       "2016-03-17    10172\n",
       "2016-03-18     2441\n",
       "2016-03-19     5763\n",
       "2016-03-20     7033\n",
       "2016-03-21     7132\n",
       "2016-03-22     7305\n",
       "2016-03-23     6416\n",
       "2016-03-24     6828\n",
       "2016-03-25     6744\n",
       "2016-03-26     5701\n",
       "2016-03-27     5960\n",
       "2016-03-28     7878\n",
       "2016-03-29     8262\n",
       "2016-03-30     8466\n",
       "2016-03-31     8612\n",
       "2016-04-01     8530\n",
       "2016-04-02     8834\n",
       "2016-04-03     8986\n",
       "2016-04-04     9099\n",
       "2016-04-05    45191\n",
       "2016-04-06    78215\n",
       "2016-04-07    46598\n",
       "Name: last_seen, dtype: int64"
      ]
     },
     "execution_count": 204,
     "metadata": {},
     "output_type": "execute_result"
    }
   ],
   "source": [
    "cars['last_seen'].dt.strftime('%Y-%m-%d').value_counts(dropna = False).sort_index()"
   ]
  },
  {
   "cell_type": "markdown",
   "metadata": {},
   "source": [
    "last_seen is very heavy in the most recent few days, which makes some sense... if people still have their vehicles posted for sale, chances are good they'll continue to look at it."
   ]
  },
  {
   "cell_type": "code",
   "execution_count": 205,
   "metadata": {
    "scrolled": true
   },
   "outputs": [
    {
     "data": {
      "text/plain": [
       "count    356372.000000\n",
       "mean       2002.783580\n",
       "std           7.387758\n",
       "min        1910.000000\n",
       "25%        1999.000000\n",
       "50%        2003.000000\n",
       "75%        2008.000000\n",
       "max        2016.000000\n",
       "Name: registration_year, dtype: float64"
      ]
     },
     "execution_count": 205,
     "metadata": {},
     "output_type": "execute_result"
    }
   ],
   "source": [
    "cars['registration_year'].describe()"
   ]
  },
  {
   "cell_type": "code",
   "execution_count": 116,
   "metadata": {},
   "outputs": [
    {
     "data": {
      "text/plain": [
       "1910      102\n",
       "1911        1\n",
       "1915        1\n",
       "1919        1\n",
       "1920        1\n",
       "1923        3\n",
       "1925        1\n",
       "1927        2\n",
       "1928        2\n",
       "1929        8\n",
       "1930        5\n",
       "1931        4\n",
       "1932        4\n",
       "1933        6\n",
       "1934        5\n",
       "1935        6\n",
       "1936        7\n",
       "1937       13\n",
       "1938        8\n",
       "1939        4\n",
       "1940        2\n",
       "1941        4\n",
       "1942        3\n",
       "1943        5\n",
       "1944        2\n",
       "1945        4\n",
       "1946        2\n",
       "1947        5\n",
       "1948        4\n",
       "1949        3\n",
       "        ...  \n",
       "1987      696\n",
       "1988      965\n",
       "1989     1340\n",
       "1990     2849\n",
       "1991     2806\n",
       "1992     3039\n",
       "1993     3464\n",
       "1994     4867\n",
       "1995     9642\n",
       "1996    10867\n",
       "1997    14686\n",
       "1998    17929\n",
       "1999    22741\n",
       "2000    24514\n",
       "2001    20193\n",
       "2002    19163\n",
       "2003    19856\n",
       "2004    19726\n",
       "2005    22295\n",
       "2006    20211\n",
       "2007    17657\n",
       "2008    16167\n",
       "2009    15598\n",
       "2010    12348\n",
       "2011    12064\n",
       "2012     9416\n",
       "2013     6153\n",
       "2014     4800\n",
       "2015     2981\n",
       "2016     9832\n",
       "Name: registration_year, Length: 97, dtype: int64"
      ]
     },
     "execution_count": 116,
     "metadata": {},
     "output_type": "execute_result"
    }
   ],
   "source": [
    "cars['registration_year'].value_counts(dropna = False).sort_index()"
   ]
  },
  {
   "cell_type": "markdown",
   "metadata": {},
   "source": [
    "Given these are used cars, the distribution mostly makes sense. The only exception is 1910, with 102 values. The other values in the early 20th century *could* be real, though there's a middling chance some of those are misentered as well. For now, 1910 is the only year where most or all of the values are clearly incorrect. As before, we'll cut these incorrect values out of the data without further investigation."
   ]
  },
  {
   "cell_type": "code",
   "execution_count": 206,
   "metadata": {},
   "outputs": [],
   "source": [
    "cars = cars[cars['registration_year'].between(1911,2016)]"
   ]
  },
  {
   "cell_type": "markdown",
   "metadata": {},
   "source": [
    "Now, I'll look at different car brands to see what is being sold.\n",
    "\n",
    "### Brands"
   ]
  },
  {
   "cell_type": "code",
   "execution_count": 207,
   "metadata": {},
   "outputs": [
    {
     "data": {
      "text/plain": [
       "24528"
      ]
     },
     "execution_count": 207,
     "metadata": {},
     "output_type": "execute_result"
    }
   ],
   "source": [
    "cars[cars['brand'] == 'ford'].shape[0]"
   ]
  },
  {
   "cell_type": "code",
   "execution_count": 208,
   "metadata": {},
   "outputs": [
    {
     "data": {
      "text/plain": [
       "{'volkswagen': [5230.0, 128354.0],\n",
       " 'bmw': [8239.0, 132668.0],\n",
       " 'opel': [2871.0, 128770.0],\n",
       " 'mercedes_benz': [8400.0, 130586.0],\n",
       " 'audi': [8852.0, 129517.0],\n",
       " 'ford': [3598.0, 123616.0],\n",
       " 'renault': [2367.0, 127878.0],\n",
       " 'peugeot': [3207.0, 124611.0],\n",
       " 'fiat': [2806.0, 116506.0],\n",
       " 'seat': [4424.0, 120920.0],\n",
       " 'skoda': [6461.0, 113728.0],\n",
       " 'mazda': [3971.0, 125941.0],\n",
       " 'smart': [3584.0, 99702.0],\n",
       " 'citroen': [3652.0, 120355.0],\n",
       " 'nissan': [4588.0, 119544.0],\n",
       " 'toyota': [5264.0, 117410.0],\n",
       " 'sonstige_autos': [13003.0, 87232.0],\n",
       " 'hyundai': [5492.0, 104354.0],\n",
       " 'mini': [9981.0, 93573.0]}"
      ]
     },
     "execution_count": 208,
     "metadata": {},
     "output_type": "execute_result"
    }
   ],
   "source": [
    "top20brands = cars['brand'].value_counts().index[0:19].tolist()\n",
    "top20 = cars[cars['brand'].isin(top20brands)]\n",
    "\n",
    "meanpricebybrand = {}\n",
    "\n",
    "#Dictionary with mean of [price, kilometers]\n",
    "for brand in top20brands:\n",
    "    sumprices = cars[cars['brand'] == brand]['price'].sum()\n",
    "    sumkm     = cars[cars['brand'] == brand]['odometer_km'].sum()\n",
    "    valcount  = cars[cars['brand'] == brand].shape[0]\n",
    "    \n",
    "    \n",
    "    meanpricebybrand[brand] = [round(sumprices / valcount,0),round(sumkm / valcount, 0)]\n",
    "    \n",
    "meanpricebybrand"
   ]
  },
  {
   "cell_type": "markdown",
   "metadata": {},
   "source": [
    "Sonstige Autos, which I've never heard of, stands out as the most expensive used car at \\\\$13,003, though the figure is just the straight mean without context. The least expensive mean price is the renault, at \\\\$2,367.\n",
    "...\n",
    "After a bit of googling, it turns out that sonstige is the German word for 'Other'. That may explain why they're most expensive. Most of the automakers above are well known and are producing cars for as many people as possible. Other autos may include automakers that produce fewer, but more expensive cars.\n",
    "\n",
    "Beyond that, there is a distinction between used mercedes/audi/bmw, midrange like toyota/volkswagen/hyundai, and then the less expensive like renault/opel/fiat."
   ]
  },
  {
   "cell_type": "code",
   "execution_count": 209,
   "metadata": {},
   "outputs": [
    {
     "data": {
      "text/plain": [
       "Dodge_RAM                                                            48\n",
       "MG_MGF_1.8i                                                          23\n",
       "Wartburg_353                                                         21\n",
       "Pontiac_Firebird                                                     18\n",
       "Andere_Andere                                                        17\n",
       "Suche_Auto                                                           15\n",
       "MG_MGB                                                               14\n",
       "MG_MG_TF_135                                                         12\n",
       "Abarth_500                                                           12\n",
       "Lexus_IS_200                                                         11\n",
       "Hummer_H2                                                            10\n",
       "Dodge_Durango                                                        10\n",
       "Triumph_Spitfire                                                      9\n",
       "Dodge_Charger                                                         9\n",
       "MG_Midget                                                             9\n",
       "Abarth_500C                                                           9\n",
       "Suche_auto                                                            9\n",
       "Wartburg_311                                                          9\n",
       "Dodge_Caliber_2.0_CVT_SXT                                             9\n",
       "Abarth_Grande_Punto                                                   8\n",
       "Cadillac_Deville                                                      8\n",
       "Abarth_Punto_Evo                                                      8\n",
       "Corvette_C4                                                           7\n",
       "Dodge_Challenger                                                      7\n",
       "Suche_ein_Auto                                                        7\n",
       "Triumph_TR6                                                           7\n",
       "Dodge_Caliber_2.0_CRD_SXT                                             7\n",
       "Lexus_IS_220d_DPNR_Luxury_Line                                        6\n",
       "Oldsmobile_Cutlass                                                    6\n",
       "Dodge_Nitro                                                           6\n",
       "                                                                     ..\n",
       "Tausche_Neues__Haibike_Sduro_Fullnine_mit_Garantie_Gegen_ein_Auto     1\n",
       "Pontiac_Trans_Sport_2_3                                               1\n",
       "Lincoln_Continental_/_Oldtimer_/_7_5_l_/_Suizid_Door                  1\n",
       "Oldtimer_Citroën_F_AC_4_Bj_29                                         1\n",
       "Ssangyong_Rexton_RX_270_Xdi_Automatik_275/40R20                       1\n",
       "Hamann_BMW_X6m_Tycoon_evo_m_687_PS                                    1\n",
       "Auto_Bas_Box_DLD_Acoustic                                             1\n",
       "Andere_Simca_5_Fourgonette_Kombilimousine                             1\n",
       "Dodge_Durango_R/T_5.9L_V8_Magnum_Prince_LPG_Gasanlage                 1\n",
       "Lotus_Super_Seven__Super_7__Robin_Hood_Kitcar                         1\n",
       "Suche_3er_BMW_auf_Ratenzahlung                                        1\n",
       "Tausche_Motorroller_GEGEN_AUTO                                        1\n",
       "Stellplatz_fuer_umsonst                                               1\n",
       "Oldtimer_Raritaeten_Vorkriegsmodell_Ersatzteile                       1\n",
       "Corvette_C3__Sammlerfahrzeug!!_..orig._nur_1385_Meilen!!!             1\n",
       "Ferrari_456_GTA                                                       1\n",
       "Tempo_Dreirad_A400_Bj_1945                                            1\n",
       "Brilliance_BS4_1.8_Deluxe                                             1\n",
       "Suche_Roller_Motorraeder_Quad_alles_anbieten                          1\n",
       "MG_ZR__8_fach_bereift__                                               1\n",
       "maserati_spyder.                                                      1\n",
       "IFA_F8_Oldtimer                                                       1\n",
       "Cectek_Estoc_500_ccm_AHK_LOF_Zulassung                                1\n",
       "Steyr/Puch_Haflinger_700_AP_4x4_BJ_1971_Militaerfahrzeug              1\n",
       "China_Quat_107ccm                                                     1\n",
       "Leasing_Übernahme                                                     1\n",
       "Lamborghini_Gallardo_Neuer_Motor_14000_km_Kupplung_Neu_usw            1\n",
       "Cadillac_Fleetwood_7.7_Liter_V8                                       1\n",
       "Porsche_356_Replika                                                   1\n",
       "Plymouth_Roadrunner_1969_Clone                                        1\n",
       "Name: name, Length: 3054, dtype: int64"
      ]
     },
     "execution_count": 209,
     "metadata": {},
     "output_type": "execute_result"
    }
   ],
   "source": [
    "cars[cars['brand'] == 'sonstige_autos']['name'].value_counts()"
   ]
  },
  {
   "cell_type": "markdown",
   "metadata": {},
   "source": [
    "Aha. The vehicles that appear more often still include mass produced vehicles like Dodge, and Cadillac. But, we also see Lamborghini, Corvette, Porsche, and **Pontiac**."
   ]
  },
  {
   "cell_type": "markdown",
   "metadata": {},
   "source": [
    "Now... the top 6 brands, with mileage, to see if there's some relationship between mileage and price beyond the brand.\n",
    "\n",
    "### Top 6 Brands, with mileage"
   ]
  },
  {
   "cell_type": "code",
   "execution_count": 230,
   "metadata": {},
   "outputs": [
    {
     "data": {
      "text/html": [
       "<div>\n",
       "<style scoped>\n",
       "    .dataframe tbody tr th:only-of-type {\n",
       "        vertical-align: middle;\n",
       "    }\n",
       "\n",
       "    .dataframe tbody tr th {\n",
       "        vertical-align: top;\n",
       "    }\n",
       "\n",
       "    .dataframe thead th {\n",
       "        text-align: right;\n",
       "    }\n",
       "</style>\n",
       "<table border=\"1\" class=\"dataframe\">\n",
       "  <thead>\n",
       "    <tr style=\"text-align: right;\">\n",
       "      <th></th>\n",
       "      <th>meanprice</th>\n",
       "      <th>meankm</th>\n",
       "    </tr>\n",
       "  </thead>\n",
       "  <tbody>\n",
       "    <tr>\n",
       "      <th>opel</th>\n",
       "      <td>2871.0</td>\n",
       "      <td>128770.0</td>\n",
       "    </tr>\n",
       "    <tr>\n",
       "      <th>ford</th>\n",
       "      <td>3598.0</td>\n",
       "      <td>123616.0</td>\n",
       "    </tr>\n",
       "    <tr>\n",
       "      <th>volkswagen</th>\n",
       "      <td>5230.0</td>\n",
       "      <td>128354.0</td>\n",
       "    </tr>\n",
       "    <tr>\n",
       "      <th>bmw</th>\n",
       "      <td>8239.0</td>\n",
       "      <td>132668.0</td>\n",
       "    </tr>\n",
       "    <tr>\n",
       "      <th>mercedes_benz</th>\n",
       "      <td>8400.0</td>\n",
       "      <td>130586.0</td>\n",
       "    </tr>\n",
       "    <tr>\n",
       "      <th>audi</th>\n",
       "      <td>8852.0</td>\n",
       "      <td>129517.0</td>\n",
       "    </tr>\n",
       "  </tbody>\n",
       "</table>\n",
       "</div>"
      ],
      "text/plain": [
       "               meanprice    meankm\n",
       "opel              2871.0  128770.0\n",
       "ford              3598.0  123616.0\n",
       "volkswagen        5230.0  128354.0\n",
       "bmw               8239.0  132668.0\n",
       "mercedes_benz     8400.0  130586.0\n",
       "audi              8852.0  129517.0"
      ]
     },
     "execution_count": 230,
     "metadata": {},
     "output_type": "execute_result"
    }
   ],
   "source": [
    "top6brands = top20brands[0:6]\n",
    "\n",
    "top20meandf = pd.DataFrame.from_dict(meanpricebybrand, orient = 'index')\n",
    "top20meandf.columns = ['meanprice','meankm']\n",
    "top6meandf = top20meandf.loc[top6brands]\n",
    "top6meandf.sort_values('meanprice')"
   ]
  },
  {
   "cell_type": "markdown",
   "metadata": {},
   "source": [
    "The instructions ask for pprint... doesn't look any better than the table above, though."
   ]
  },
  {
   "cell_type": "code",
   "execution_count": 215,
   "metadata": {},
   "outputs": [
    {
     "name": "stdout",
     "output_type": "stream",
     "text": [
      "               meanprice    meankm\n",
      "volkswagen        5230.0  128354.0\n",
      "bmw               8239.0  132668.0\n",
      "opel              2871.0  128770.0\n",
      "mercedes_benz     8400.0  130586.0\n",
      "audi              8852.0  129517.0\n",
      "ford              3598.0  123616.0\n"
     ]
    }
   ],
   "source": [
    "import pprint\n",
    "\n",
    "pprint.pprint(top6meandf)"
   ]
  },
  {
   "cell_type": "markdown",
   "metadata": {},
   "source": [
    "I'm not sure whether the data is correct... most of the kilometre values are 150k in the data. But, if we assume they're accurate, it's not at all clear from this table that there's any connection between price and the number of kilometres the car has been driven."
   ]
  },
  {
   "cell_type": "code",
   "execution_count": 233,
   "metadata": {},
   "outputs": [
    {
     "data": {
      "image/png": "[encoded data removed]",
      "text/plain": [
       "<Figure size 432x288 with 1 Axes>"
      ]
     },
     "metadata": {
      "needs_background": "light"
     },
     "output_type": "display_data"
    }
   ],
   "source": [
    "import matplotlib.pyplot as plt\n",
    "\n",
    "cars.plot(kind =\"scatter\" , x='price',y='odometer_km')\n",
    "plt.show()"
   ]
  },
  {
   "cell_type": "markdown",
   "metadata": {},
   "source": [
    "Next steps:  \n",
    "1) Convert german categoricals to english  \n",
    "2) Convert dates to integers  \n",
    "3) See if there are keywords in the name column to extract to new columns  \n",
    "\n",
    "### German to English"
   ]
  },
  {
   "cell_type": "markdown",
   "metadata": {},
   "source": [
    "Some variables that need to be mapped:   \n",
    "vehicle_type  \n",
    "gearbox  \n",
    "fuel_type  \n",
    "unrepaired_damage  "
   ]
  },
  {
   "cell_type": "code",
   "execution_count": 255,
   "metadata": {},
   "outputs": [],
   "source": [
    "#cars['vehicle_type'].value_counts(dropna = False)\n",
    "#cars['gearbox'].value_counts(dropna = False)\n",
    "#cars['fuel_type'].value_counts(dropna = False)\n",
    "#cars['unrepaired_damage'].value_counts(dropna = False)"
   ]
  },
  {
   "cell_type": "code",
   "execution_count": 257,
   "metadata": {},
   "outputs": [],
   "source": [
    "vhc_typemap = {'limousine' : 'limousine',\n",
    "               'kleinwagen' : 'compact',\n",
    "               'kombi' : 'van',\n",
    "               'bus' : 'bus',\n",
    "               'cabrio' : 'convertible',\n",
    "               'andere' : 'other',\n",
    "               'coupe' : 'coupe',\n",
    "               'suv' : 'suv'}\n",
    "\n",
    "gear_typemap = {'manuell':'manual', 'automatik':'automatic'}\n",
    "\n",
    "fuel_typemap = {'benzin' : 'gasoline',\n",
    "               'diesel' : 'diesel',\n",
    "               'lpg' : 'liquefied natural gas',\n",
    "               'cng' : 'compressed natural gas',\n",
    "               'hybrid' : 'hybrid',\n",
    "               'andere' : 'other',\n",
    "               'elektro' : 'electric'}\n",
    "\n",
    "damage_typemap = {'nein' : 'no',\n",
    "                 'ja' : 'yes'}\n",
    "\n",
    "cars['vehicle_type'] = cars['vehicle_type'].map(vhc_typemap)\n",
    "cars['gearbox'] = cars['gearbox'].map(gear_typemap)\n",
    "cars['fuel_type'] = cars['fuel_type'].map(fuel_typemap)\n",
    "cars['unrepaired_damage'] = cars['unrepaired_damage'].map(damage_typemap)"
   ]
  },
  {
   "cell_type": "markdown",
   "metadata": {},
   "source": [
    "### Dates to Integers"
   ]
  },
  {
   "cell_type": "code",
   "execution_count": 266,
   "metadata": {
    "scrolled": true
   },
   "outputs": [],
   "source": [
    "cars['date_crawled_int'] = cars['date_crawled'].dt.strftime('%Y%m%d').astype('int')\n",
    "cars['ad_created_int'] = cars['ad_created'].dt.strftime('%Y%m%d').astype('int')\n",
    "cars['last_seen_int'] = cars['last_seen'].dt.strftime('%Y%m%d').astype('int')"
   ]
  },
  {
   "cell_type": "code",
   "execution_count": 268,
   "metadata": {},
   "outputs": [
    {
     "data": {
      "text/html": [
       "<div>\n",
       "<style scoped>\n",
       "    .dataframe tbody tr th:only-of-type {\n",
       "        vertical-align: middle;\n",
       "    }\n",
       "\n",
       "    .dataframe tbody tr th {\n",
       "        vertical-align: top;\n",
       "    }\n",
       "\n",
       "    .dataframe thead th {\n",
       "        text-align: right;\n",
       "    }\n",
       "</style>\n",
       "<table border=\"1\" class=\"dataframe\">\n",
       "  <thead>\n",
       "    <tr style=\"text-align: right;\">\n",
       "      <th></th>\n",
       "      <th>date_crawled</th>\n",
       "      <th>name</th>\n",
       "      <th>price</th>\n",
       "      <th>abtest</th>\n",
       "      <th>vehicle_type</th>\n",
       "      <th>registration_year</th>\n",
       "      <th>gearbox</th>\n",
       "      <th>power_ps</th>\n",
       "      <th>model</th>\n",
       "      <th>odometer_km</th>\n",
       "      <th>registration_month</th>\n",
       "      <th>fuel_type</th>\n",
       "      <th>brand</th>\n",
       "      <th>unrepaired_damage</th>\n",
       "      <th>ad_created</th>\n",
       "      <th>postal_code</th>\n",
       "      <th>last_seen</th>\n",
       "      <th>date_crawled_int</th>\n",
       "      <th>ad_created_int</th>\n",
       "      <th>last_seen_int</th>\n",
       "    </tr>\n",
       "  </thead>\n",
       "  <tbody>\n",
       "    <tr>\n",
       "      <th>0</th>\n",
       "      <td>2016-03-24 11:52:17</td>\n",
       "      <td>Golf_3_1.6</td>\n",
       "      <td>480</td>\n",
       "      <td>test</td>\n",
       "      <td>NaN</td>\n",
       "      <td>1993</td>\n",
       "      <td>manual</td>\n",
       "      <td>0</td>\n",
       "      <td>golf</td>\n",
       "      <td>150000</td>\n",
       "      <td>0</td>\n",
       "      <td>gasoline</td>\n",
       "      <td>volkswagen</td>\n",
       "      <td>NaN</td>\n",
       "      <td>2016-03-24</td>\n",
       "      <td>70435</td>\n",
       "      <td>2016-04-07 03:16:57</td>\n",
       "      <td>20160324</td>\n",
       "      <td>20160324</td>\n",
       "      <td>20160407</td>\n",
       "    </tr>\n",
       "    <tr>\n",
       "      <th>1</th>\n",
       "      <td>2016-03-24 10:58:45</td>\n",
       "      <td>A5_Sportback_2.7_Tdi</td>\n",
       "      <td>18300</td>\n",
       "      <td>test</td>\n",
       "      <td>coupe</td>\n",
       "      <td>2011</td>\n",
       "      <td>manual</td>\n",
       "      <td>190</td>\n",
       "      <td>NaN</td>\n",
       "      <td>125000</td>\n",
       "      <td>5</td>\n",
       "      <td>diesel</td>\n",
       "      <td>audi</td>\n",
       "      <td>yes</td>\n",
       "      <td>2016-03-24</td>\n",
       "      <td>66954</td>\n",
       "      <td>2016-04-07 01:46:50</td>\n",
       "      <td>20160324</td>\n",
       "      <td>20160324</td>\n",
       "      <td>20160407</td>\n",
       "    </tr>\n",
       "    <tr>\n",
       "      <th>2</th>\n",
       "      <td>2016-03-14 12:52:21</td>\n",
       "      <td>Jeep_Grand_Cherokee_\"Overland\"</td>\n",
       "      <td>9800</td>\n",
       "      <td>test</td>\n",
       "      <td>suv</td>\n",
       "      <td>2004</td>\n",
       "      <td>automatic</td>\n",
       "      <td>163</td>\n",
       "      <td>grand</td>\n",
       "      <td>125000</td>\n",
       "      <td>8</td>\n",
       "      <td>diesel</td>\n",
       "      <td>jeep</td>\n",
       "      <td>NaN</td>\n",
       "      <td>2016-03-14</td>\n",
       "      <td>90480</td>\n",
       "      <td>2016-04-05 12:47:46</td>\n",
       "      <td>20160314</td>\n",
       "      <td>20160314</td>\n",
       "      <td>20160405</td>\n",
       "    </tr>\n",
       "    <tr>\n",
       "      <th>3</th>\n",
       "      <td>2016-03-17 16:54:04</td>\n",
       "      <td>GOLF_4_1_4__3TÜRER</td>\n",
       "      <td>1500</td>\n",
       "      <td>test</td>\n",
       "      <td>compact</td>\n",
       "      <td>2001</td>\n",
       "      <td>manual</td>\n",
       "      <td>75</td>\n",
       "      <td>golf</td>\n",
       "      <td>150000</td>\n",
       "      <td>6</td>\n",
       "      <td>gasoline</td>\n",
       "      <td>volkswagen</td>\n",
       "      <td>no</td>\n",
       "      <td>2016-03-17</td>\n",
       "      <td>91074</td>\n",
       "      <td>2016-03-17 17:40:17</td>\n",
       "      <td>20160317</td>\n",
       "      <td>20160317</td>\n",
       "      <td>20160317</td>\n",
       "    </tr>\n",
       "    <tr>\n",
       "      <th>4</th>\n",
       "      <td>2016-03-31 17:25:20</td>\n",
       "      <td>Skoda_Fabia_1.4_TDI_PD_Classic</td>\n",
       "      <td>3600</td>\n",
       "      <td>test</td>\n",
       "      <td>compact</td>\n",
       "      <td>2008</td>\n",
       "      <td>manual</td>\n",
       "      <td>69</td>\n",
       "      <td>fabia</td>\n",
       "      <td>90000</td>\n",
       "      <td>7</td>\n",
       "      <td>diesel</td>\n",
       "      <td>skoda</td>\n",
       "      <td>no</td>\n",
       "      <td>2016-03-31</td>\n",
       "      <td>60437</td>\n",
       "      <td>2016-04-06 10:17:21</td>\n",
       "      <td>20160331</td>\n",
       "      <td>20160331</td>\n",
       "      <td>20160406</td>\n",
       "    </tr>\n",
       "  </tbody>\n",
       "</table>\n",
       "</div>"
      ],
      "text/plain": [
       "         date_crawled                            name  price abtest  \\\n",
       "0 2016-03-24 11:52:17                      Golf_3_1.6    480   test   \n",
       "1 2016-03-24 10:58:45            A5_Sportback_2.7_Tdi  18300   test   \n",
       "2 2016-03-14 12:52:21  Jeep_Grand_Cherokee_\"Overland\"   9800   test   \n",
       "3 2016-03-17 16:54:04              GOLF_4_1_4__3TÜRER   1500   test   \n",
       "4 2016-03-31 17:25:20  Skoda_Fabia_1.4_TDI_PD_Classic   3600   test   \n",
       "\n",
       "  vehicle_type  registration_year    gearbox  power_ps  model  odometer_km  \\\n",
       "0          NaN               1993     manual         0   golf       150000   \n",
       "1        coupe               2011     manual       190    NaN       125000   \n",
       "2          suv               2004  automatic       163  grand       125000   \n",
       "3      compact               2001     manual        75   golf       150000   \n",
       "4      compact               2008     manual        69  fabia        90000   \n",
       "\n",
       "   registration_month fuel_type       brand unrepaired_damage ad_created  \\\n",
       "0                   0  gasoline  volkswagen               NaN 2016-03-24   \n",
       "1                   5    diesel        audi               yes 2016-03-24   \n",
       "2                   8    diesel        jeep               NaN 2016-03-14   \n",
       "3                   6  gasoline  volkswagen                no 2016-03-17   \n",
       "4                   7    diesel       skoda                no 2016-03-31   \n",
       "\n",
       "   postal_code           last_seen  date_crawled_int  ad_created_int  \\\n",
       "0        70435 2016-04-07 03:16:57          20160324        20160324   \n",
       "1        66954 2016-04-07 01:46:50          20160324        20160324   \n",
       "2        90480 2016-04-05 12:47:46          20160314        20160314   \n",
       "3        91074 2016-03-17 17:40:17          20160317        20160317   \n",
       "4        60437 2016-04-06 10:17:21          20160331        20160331   \n",
       "\n",
       "   last_seen_int  \n",
       "0       20160407  \n",
       "1       20160407  \n",
       "2       20160405  \n",
       "3       20160317  \n",
       "4       20160406  "
      ]
     },
     "execution_count": 268,
     "metadata": {},
     "output_type": "execute_result"
    }
   ],
   "source": [
    "cars.head()"
   ]
  },
  {
   "cell_type": "markdown",
   "metadata": {},
   "source": [
    "### Keywords in name column?"
   ]
  },
  {
   "cell_type": "code",
   "execution_count": 307,
   "metadata": {},
   "outputs": [
    {
     "data": {
      "text/html": [
       "<div>\n",
       "<style scoped>\n",
       "    .dataframe tbody tr th:only-of-type {\n",
       "        vertical-align: middle;\n",
       "    }\n",
       "\n",
       "    .dataframe tbody tr th {\n",
       "        vertical-align: top;\n",
       "    }\n",
       "\n",
       "    .dataframe thead th {\n",
       "        text-align: right;\n",
       "    }\n",
       "</style>\n",
       "<table border=\"1\" class=\"dataframe\">\n",
       "  <thead>\n",
       "    <tr style=\"text-align: right;\">\n",
       "      <th></th>\n",
       "      <th>name</th>\n",
       "      <th>brand</th>\n",
       "      <th>model</th>\n",
       "    </tr>\n",
       "  </thead>\n",
       "  <tbody>\n",
       "    <tr>\n",
       "      <th>0</th>\n",
       "      <td>golf_3_1.6</td>\n",
       "      <td>volkswagen</td>\n",
       "      <td>golf</td>\n",
       "    </tr>\n",
       "    <tr>\n",
       "      <th>1</th>\n",
       "      <td>a5_sportback_2.7_tdi</td>\n",
       "      <td>audi</td>\n",
       "      <td>NaN</td>\n",
       "    </tr>\n",
       "    <tr>\n",
       "      <th>2</th>\n",
       "      <td>jeep_grand_cherokee_\"overland\"</td>\n",
       "      <td>jeep</td>\n",
       "      <td>grand</td>\n",
       "    </tr>\n",
       "    <tr>\n",
       "      <th>3</th>\n",
       "      <td>golf_4_1_4__3türer</td>\n",
       "      <td>volkswagen</td>\n",
       "      <td>golf</td>\n",
       "    </tr>\n",
       "    <tr>\n",
       "      <th>4</th>\n",
       "      <td>skoda_fabia_1.4_tdi_pd_classic</td>\n",
       "      <td>skoda</td>\n",
       "      <td>fabia</td>\n",
       "    </tr>\n",
       "  </tbody>\n",
       "</table>\n",
       "</div>"
      ],
      "text/plain": [
       "                             name       brand  model\n",
       "0                      golf_3_1.6  volkswagen   golf\n",
       "1            a5_sportback_2.7_tdi        audi    NaN\n",
       "2  jeep_grand_cherokee_\"overland\"        jeep  grand\n",
       "3              golf_4_1_4__3türer  volkswagen   golf\n",
       "4  skoda_fabia_1.4_tdi_pd_classic       skoda  fabia"
      ]
     },
     "execution_count": 307,
     "metadata": {},
     "output_type": "execute_result"
    }
   ],
   "source": [
    "test = cars[['name','brand','model']].copy()\n",
    "test['name'] = test['name'].str.lower()\n",
    "test['brand'] = test['brand'].str.lower()\n",
    "test['model'] = test['model'].str.lower()\n",
    "test.head()"
   ]
  },
  {
   "cell_type": "markdown",
   "metadata": {},
   "source": [
    "### Find the most common brand/model combinations"
   ]
  },
  {
   "cell_type": "code",
   "execution_count": 322,
   "metadata": {},
   "outputs": [],
   "source": [
    "brandmodel = cars[['brand','model']].copy()\n",
    "brandmodel['combo'] = brandmodel['brand'] + ' ' + brandmodel['model']"
   ]
  },
  {
   "cell_type": "code",
   "execution_count": 325,
   "metadata": {
    "scrolled": true
   },
   "outputs": [
    {
     "data": {
      "text/plain": [
       "volkswagen golf               28405\n",
       "bmw 3er                       20007\n",
       "volkswagen polo               12460\n",
       "opel corsa                    11928\n",
       "opel astra                    10344\n",
       "audi a4                       10043\n",
       "volkswagen passat              9989\n",
       "mercedes_benz c_klasse         8567\n",
       "bmw 5er                        8388\n",
       "mercedes_benz e_klasse         7402\n",
       "audi a3                        6238\n",
       "audi a6                        5898\n",
       "ford focus                     5698\n",
       "ford fiesta                    5548\n",
       "volkswagen transporter         5357\n",
       "peugeot 2_reihe                4698\n",
       "renault twingo                 4642\n",
       "smart fortwo                   4188\n",
       "opel vectra                    4086\n",
       "mercedes_benz a_klasse         4034\n",
       "bmw 1er                        3737\n",
       "ford mondeo                    3520\n",
       "renault clio                   3366\n",
       "volkswagen touran              3326\n",
       "mercedes_benz andere           3283\n",
       "fiat punto                     3136\n",
       "opel zafira                    2851\n",
       "renault megane                 2807\n",
       "ford ka                        2595\n",
       "seat ibiza                     2559\n",
       "                              ...  \n",
       "daihatsu move                    57\n",
       "lancia lybra                     53\n",
       "volvo v60                        47\n",
       "alfa_romeo 145                   45\n",
       "volkswagen amarok                41\n",
       "fiat croma                       40\n",
       "lancia delta                     37\n",
       "dacia lodgy                      35\n",
       "daihatsu terios                  35\n",
       "saab 9000                        26\n",
       "ford b_max                       26\n",
       "daihatsu charade                 26\n",
       "lancia musa                      22\n",
       "dacia andere                     22\n",
       "land_rover andere                21\n",
       "daihatsu materia                 18\n",
       "audi 200                         18\n",
       "lancia kappa                     15\n",
       "lada samara                      13\n",
       "bmw i3                           10\n",
       "lancia elefantino                 8\n",
       "land_rover serie_2                7\n",
       "lada kalina                       6\n",
       "rover rangerover                  5\n",
       "land_rover serie_3                4\n",
       "rover discovery                   3\n",
       "rover freelander                  3\n",
       "land_rover serie_1                2\n",
       "land_rover discovery_sport        1\n",
       "rover defender                    1\n",
       "Name: combo, Length: 298, dtype: int64"
      ]
     },
     "execution_count": 325,
     "metadata": {},
     "output_type": "execute_result"
    }
   ],
   "source": [
    "brandmodel['combo'].value_counts()"
   ]
  },
  {
   "cell_type": "markdown",
   "metadata": {},
   "source": [
    "Wow, those Volkswagens are really popular in German Classifieds."
   ]
  },
  {
   "cell_type": "markdown",
   "metadata": {},
   "source": [
    "### How much cheaper are cars with damage than their non-damaged counterparts?  "
   ]
  },
  {
   "cell_type": "code",
   "execution_count": 330,
   "metadata": {},
   "outputs": [
    {
     "data": {
      "text/plain": [
       "unrepaired_damage\n",
       "no     7079.38\n",
       "yes    2115.68\n",
       "Name: price, dtype: float64"
      ]
     },
     "execution_count": 330,
     "metadata": {},
     "output_type": "execute_result"
    }
   ],
   "source": [
    "damage = cars[['price','unrepaired_damage']].copy()\n",
    "damage.groupby('unrepaired_damage').price.mean().round(2)"
   ]
  },
  {
   "cell_type": "markdown",
   "metadata": {},
   "source": [
    "Though it's just the mean, it's pretty unsurprising that cars with unrepaired damage are sold for a much lower price on average."
   ]
  }
 ],
 "metadata": {
  "kernelspec": {
   "display_name": "Python 3",
   "language": "python",
   "name": "python3"
  },
  "language_info": {
   "codemirror_mode": {
    "name": "ipython",
    "version": 3
   },
   "file_extension": ".py",
   "mimetype": "text/x-python",
   "name": "python",
   "nbconvert_exporter": "python",
   "pygments_lexer": "ipython3",
   "version": "3.7.1"
  }
 },
 "nbformat": 4,
 "nbformat_minor": 2
}
